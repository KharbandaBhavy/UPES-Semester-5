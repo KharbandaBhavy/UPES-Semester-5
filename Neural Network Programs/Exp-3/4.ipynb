{
 "cells": [
  {
   "cell_type": "markdown",
   "metadata": {},
   "source": [
    "Variation in the code: Training the toy dataset into neural network using pytorch inbuilt functions"
   ]
  },
  {
   "cell_type": "code",
   "execution_count": 2,
   "metadata": {},
   "outputs": [],
   "source": [
    "# Code by Bhavy Kharbanda\n",
    "# Sap Id: 500082531"
   ]
  },
  {
   "cell_type": "code",
   "execution_count": 3,
   "metadata": {},
   "outputs": [],
   "source": [
    "# Importing the libraries\n",
    "import torch\n",
    "import sklearn\n",
    "import torch.nn as nn\n",
    "import torch.nn.functional as F\n"
   ]
  },
  {
   "cell_type": "code",
   "execution_count": 4,
   "metadata": {},
   "outputs": [],
   "source": [
    "from sklearn.datasets import make_classification\n",
    "from sklearn.model_selection import train_test_split\n",
    "from sklearn.preprocessing import StandardScaler\n",
    "from torch.utils.data import RandomSampler, DataLoader\n",
    "\n",
    "# make_classification to generate a random classification dataset\n",
    "# train_test split to split the data in training and testing\n",
    "# StandardScaler to Standardize features by removing the mean and scaling to unit variance.\n"
   ]
  },
  {
   "cell_type": "code",
   "execution_count": 5,
   "metadata": {},
   "outputs": [
    {
     "name": "stdout",
     "output_type": "stream",
     "text": [
      "tensor([[-0.0887,  0.1064,  0.1911, -0.1475,  0.0235],\n",
      "        [-1.6020, -1.5879, -0.9963, -1.3002,  0.1559],\n",
      "        [-1.5406, -1.2391, -0.5932, -1.3623,  0.2949],\n",
      "        ...,\n",
      "        [-0.3360,  0.0219,  0.2409, -0.4106, -1.3483],\n",
      "        [-1.2038, -2.8414, -2.8373, -0.3364,  1.6825],\n",
      "        [ 0.3725,  0.3330,  0.1857,  0.3164, -0.8535]])\n",
      "tensor([1., 0., 0.,  ..., 1., 1., 1.])\n",
      "torch.Size([2000, 5])\n",
      "torch.Size([2000])\n",
      "torch.Size([1000, 5])\n",
      "torch.Size([1000, 5])\n",
      "torch.Size([1000])\n",
      "torch.Size([1000])\n"
     ]
    }
   ],
   "source": [
    "# Creating The dataset\n",
    "X, y = make_classification(n_samples=2000, n_classes=2, n_features=5)\n",
    "\n",
    "# Normalizing the Dataset\n",
    "scaler = StandardScaler()\n",
    "X = scaler.fit_transform(X)\n",
    "\n",
    "# Converting Array to Tensor objects\n",
    "X = torch.tensor(X, dtype=torch.float32)\n",
    "y = torch.tensor(y, dtype=torch.float32)\n",
    "print(X)\n",
    "print(y)\n",
    "print(X.shape)\n",
    "print(y.shape)\n",
    "# Slicing the dataset in two different halves\n",
    "X1 = X[1:1001,:]\n",
    "X2 = X[1000:,:]\n",
    "Y1 = y[1:1001]\n",
    "Y2 = y[1000:]\n",
    "print(X1.shape)\n",
    "print(X2.shape)\n",
    "print(Y1.shape)\n",
    "print(Y2.shape)\n"
   ]
  },
  {
   "cell_type": "code",
   "execution_count": 6,
   "metadata": {},
   "outputs": [
    {
     "name": "stdout",
     "output_type": "stream",
     "text": [
      "Size of training dataset: \n",
      "torch.Size([700, 5])\n",
      "Size of testing dataset: \n",
      "torch.Size([300, 5])\n"
     ]
    }
   ],
   "source": [
    "# For Model 1\n",
    "X1_train, X1_test, y1_train, y1_test = train_test_split( X1, Y1, test_size=.3, random_state=4)\n",
    "print(\"Size of training dataset: \")\n",
    "print(X1_train.shape)\n",
    "print(\"Size of testing dataset: \")\n",
    "print(X1_test.shape)\n",
    "# Direct function in sklearn to split the dataset\n"
   ]
  },
  {
   "cell_type": "code",
   "execution_count": 7,
   "metadata": {},
   "outputs": [
    {
     "name": "stdout",
     "output_type": "stream",
     "text": [
      "Size of training dataset: \n",
      "torch.Size([700, 5])\n",
      "Size of testing dataset: \n",
      "torch.Size([300, 5])\n"
     ]
    }
   ],
   "source": [
    "# For Model 2\n",
    "X2_train, X2_test, y2_train, y2_test = train_test_split( X2, Y2, test_size=.3, random_state=21)\n",
    "print(\"Size of training dataset: \")\n",
    "print(X2_train.shape)\n",
    "print(\"Size of testing dataset: \")\n",
    "print(X2_test.shape)\n",
    "# Direct function in sklearn to split the dataset\n"
   ]
  },
  {
   "cell_type": "code",
   "execution_count": 8,
   "metadata": {},
   "outputs": [],
   "source": [
    "class NNpt(nn.Module):\n",
    "    def __init__(self, n_features):\n",
    "        super(NNpt, self).__init__()\n",
    "        self.linear = nn.Linear(n_features, 1)\n",
    "\n",
    "        self.linear.weight.detach().zero_()\n",
    "        self.linear.bias.detach().zero_()\n",
    "\n",
    "    def forward(self, x):\n",
    "        out = self.linear(x)\n",
    "        return out.view(-1)\n",
    "\n",
    "\n",
    "def loss_fn(yhat, y):\n",
    "    return torch.mean((yhat-y)**2)\n"
   ]
  },
  {
   "cell_type": "code",
   "execution_count": 9,
   "metadata": {},
   "outputs": [],
   "source": [
    "\n",
    "def train(model, x, y, n_epoch=10, lr=0.001, seed=23, bsz=50):\n",
    "\n",
    "    cost = []\n",
    "    torch.manual_seed(seed)\n",
    "    # To optimize our algorithm\n",
    "    optimizer = torch.optim.SGD(model.parameters(), lr=lr)\n",
    "    for i in range(n_epoch):\n",
    "        suffle_idx = torch.randperm(y.size(0))\n",
    "        batches = torch.split(suffle_idx, bsz)\n",
    "\n",
    "        for idx in batches:\n",
    "            # 1. Compute the Output\n",
    "            yhat = model.forward(x[idx])\n",
    "\n",
    "            # 2. Compute the Loss\n",
    "            loss = torch.nn.functional.mse_loss(yhat, y[idx])\n",
    "\n",
    "            # 3. Compute the Gradients\n",
    "            optimizer.zero_grad()\n",
    "            loss.backward()\n",
    "\n",
    "            # 4. Update the Model Parameters\n",
    "            optimizer.step()\n",
    "\n",
    "            # model.weight=model.weight-lr*grad_w\n",
    "            # model.bias=model.bias-lr*grad_b\n",
    "\n",
    "        # 5. Log and print the Loss\n",
    "        with torch.no_grad():\n",
    "            yhat = model.forward(x)\n",
    "            curr_loss = loss_fn(yhat, y)\n",
    "            print('Epoc: %3d ' % (i+1), end=\"\")\n",
    "            print('| MSE % .5f' % curr_loss)\n",
    "            cost.append(curr_loss)\n",
    "\n",
    "    return cost\n"
   ]
  },
  {
   "cell_type": "markdown",
   "metadata": {},
   "source": [
    "For Model: 1"
   ]
  },
  {
   "cell_type": "code",
   "execution_count": 10,
   "metadata": {},
   "outputs": [
    {
     "name": "stdout",
     "output_type": "stream",
     "text": [
      "Epoc:   1 | MSE  0.46288\n",
      "Epoc:   2 | MSE  0.43525\n",
      "Epoc:   3 | MSE  0.40975\n",
      "Epoc:   4 | MSE  0.38619\n",
      "Epoc:   5 | MSE  0.36442\n",
      "Epoc:   6 | MSE  0.34427\n",
      "Epoc:   7 | MSE  0.32561\n",
      "Epoc:   8 | MSE  0.30833\n",
      "Epoc:   9 | MSE  0.29230\n",
      "Epoc:  10 | MSE  0.27742\n",
      "Epoc:  11 | MSE  0.26360\n",
      "Epoc:  12 | MSE  0.25076\n",
      "Epoc:  13 | MSE  0.23882\n",
      "Epoc:  14 | MSE  0.22772\n",
      "Epoc:  15 | MSE  0.21738\n",
      "Epoc:  16 | MSE  0.20774\n",
      "Epoc:  17 | MSE  0.19876\n",
      "Epoc:  18 | MSE  0.19039\n",
      "Epoc:  19 | MSE  0.18258\n",
      "Epoc:  20 | MSE  0.17528\n",
      "Epoc:  21 | MSE  0.16847\n",
      "Epoc:  22 | MSE  0.16211\n",
      "Epoc:  23 | MSE  0.15616\n",
      "Epoc:  24 | MSE  0.15061\n",
      "Epoc:  25 | MSE  0.14541\n",
      "Epoc:  26 | MSE  0.14054\n",
      "Epoc:  27 | MSE  0.13598\n",
      "Epoc:  28 | MSE  0.13172\n",
      "Epoc:  29 | MSE  0.12773\n",
      "Epoc:  30 | MSE  0.12398\n",
      "Epoc:  31 | MSE  0.12048\n",
      "Epoc:  32 | MSE  0.11719\n",
      "Epoc:  33 | MSE  0.11410\n",
      "Epoc:  34 | MSE  0.11121\n",
      "Epoc:  35 | MSE  0.10850\n",
      "Epoc:  36 | MSE  0.10595\n",
      "Epoc:  37 | MSE  0.10356\n",
      "Epoc:  38 | MSE  0.10132\n",
      "Epoc:  39 | MSE  0.09921\n",
      "Epoc:  40 | MSE  0.09723\n",
      "Epoc:  41 | MSE  0.09537\n",
      "Epoc:  42 | MSE  0.09362\n",
      "Epoc:  43 | MSE  0.09198\n",
      "Epoc:  44 | MSE  0.09044\n",
      "Epoc:  45 | MSE  0.08899\n",
      "Epoc:  46 | MSE  0.08762\n",
      "Epoc:  47 | MSE  0.08634\n",
      "Epoc:  48 | MSE  0.08514\n",
      "Epoc:  49 | MSE  0.08400\n",
      "Epoc:  50 | MSE  0.08293\n"
     ]
    }
   ],
   "source": [
    "n_feature = X1_train.size(1)\n",
    "model = NNpt(n_features=n_feature)\n",
    "# Calling the model\n",
    "cost = train(model, X1_train, y1_train, n_epoch=50)\n"
   ]
  },
  {
   "cell_type": "markdown",
   "metadata": {},
   "source": [
    "Plot for Model: 1\n"
   ]
  },
  {
   "cell_type": "code",
   "execution_count": 11,
   "metadata": {},
   "outputs": [
    {
     "data": {
      "text/plain": [
       "[]"
      ]
     },
     "execution_count": 11,
     "metadata": {},
     "output_type": "execute_result"
    },
    {
     "data": {
      "image/png": "[encoded data removed]",
      "text/plain": [
       "<Figure size 432x288 with 1 Axes>"
      ]
     },
     "metadata": {
      "needs_background": "light"
     },
     "output_type": "display_data"
    }
   ],
   "source": [
    "import matplotlib.pyplot as plt\n",
    "plt.plot(range(len(cost)), cost)\n",
    "plt.xlabel('No of Epochs')\n",
    "plt.ylabel('Mean Squared Error')\n",
    "plt.plot()"
   ]
  },
  {
   "cell_type": "markdown",
   "metadata": {},
   "source": [
    "Accuracy Of Model: 1\n"
   ]
  },
  {
   "cell_type": "code",
   "execution_count": 12,
   "metadata": {},
   "outputs": [
    {
     "name": "stdout",
     "output_type": "stream",
     "text": [
      "Accuracy for Model: 1\n",
      "Training Accuracy: 91.00 %\n",
      "Testing Accuracy: 94.33 %\n"
     ]
    }
   ],
   "source": [
    "ones=torch.ones(y1_train.size(0))\n",
    "zero=torch.zeros(y1_train.size(0))\n",
    "train_pred=model.forward(X1_train)\n",
    "\n",
    "train_acc=torch.mean((torch.where( train_pred >0.5 , ones,zero).int()==y1_train).float())\n",
    "#print(train_acc)\n",
    "\n",
    "ones=torch.ones(y1_test.size(0))\n",
    "zero=torch.zeros(y1_test.size(0))\n",
    "test_pred=model.forward(X1_test)\n",
    "\n",
    "test_acc=torch.mean((torch.where( test_pred >0.5 , ones,zero).int()==y1_test).float())\n",
    "print(\"Accuracy for Model: 1\")\n",
    "print('Training Accuracy: %.2f' % (train_acc*100),'%')\n",
    "print('Testing Accuracy: %.2f' % (test_acc*100),'%')"
   ]
  },
  {
   "cell_type": "markdown",
   "metadata": {},
   "source": [
    "For Model: 2"
   ]
  },
  {
   "cell_type": "code",
   "execution_count": 13,
   "metadata": {},
   "outputs": [],
   "source": [
    "# For Model: 2\n",
    "def train(model, x, y, n_epoch=10, lr=1, seed=23, bsz=50): # Changed the learning rate\n",
    "\n",
    "    cost = []\n",
    "    torch.manual_seed(seed)\n",
    "    # To optimize our algorithm\n",
    "    optimizer = torch.optim.SGD(model.parameters(), lr=lr)\n",
    "    for i in range(n_epoch):\n",
    "        suffle_idx = torch.randperm(y.size(0))\n",
    "        batches = torch.split(suffle_idx, bsz)\n",
    "\n",
    "        for idx in batches:\n",
    "            # 1. Compute the Output\n",
    "            yhat = model.forward(x[idx])\n",
    "\n",
    "            # 2. Compute the Loss\n",
    "            loss = torch.nn.functional.mse_loss(yhat, y[idx])\n",
    "\n",
    "            # 3. Compute the Gradients\n",
    "            optimizer.zero_grad()\n",
    "            loss.backward()\n",
    "\n",
    "            # 4. Update the Model Parameters\n",
    "            optimizer.step()\n",
    "\n",
    "            # model.weight=model.weight-lr*grad_w\n",
    "            # model.bias=model.bias-lr*grad_b\n",
    "\n",
    "        # 5. Log and print the Loss\n",
    "        with torch.no_grad():\n",
    "            yhat = model.forward(x)\n",
    "            curr_loss = loss_fn(yhat, y)\n",
    "            print('Epoc: %3d ' % (i+1), end=\"\")\n",
    "            print('| MSE % .5f' % curr_loss)\n",
    "            cost.append(curr_loss)\n",
    "\n",
    "    return cost\n"
   ]
  },
  {
   "cell_type": "code",
   "execution_count": 14,
   "metadata": {},
   "outputs": [
    {
     "name": "stdout",
     "output_type": "stream",
     "text": [
      "Epoc:   1 | MSE  1146014715084800.00000\n",
      "Epoc:   2 | MSE  516182852354543093853214472142848.00000\n",
      "Epoc:   3 | MSE  inf\n",
      "Epoc:   4 | MSE  inf\n",
      "Epoc:   5 | MSE  nan\n",
      "Epoc:   6 | MSE  nan\n",
      "Epoc:   7 | MSE  nan\n",
      "Epoc:   8 | MSE  nan\n",
      "Epoc:   9 | MSE  nan\n",
      "Epoc:  10 | MSE  nan\n",
      "Epoc:  11 | MSE  nan\n",
      "Epoc:  12 | MSE  nan\n",
      "Epoc:  13 | MSE  nan\n",
      "Epoc:  14 | MSE  nan\n",
      "Epoc:  15 | MSE  nan\n",
      "Epoc:  16 | MSE  nan\n",
      "Epoc:  17 | MSE  nan\n",
      "Epoc:  18 | MSE  nan\n",
      "Epoc:  19 | MSE  nan\n",
      "Epoc:  20 | MSE  nan\n",
      "Epoc:  21 | MSE  nan\n",
      "Epoc:  22 | MSE  nan\n",
      "Epoc:  23 | MSE  nan\n",
      "Epoc:  24 | MSE  nan\n",
      "Epoc:  25 | MSE  nan\n",
      "Epoc:  26 | MSE  nan\n",
      "Epoc:  27 | MSE  nan\n",
      "Epoc:  28 | MSE  nan\n",
      "Epoc:  29 | MSE  nan\n",
      "Epoc:  30 | MSE  nan\n",
      "Epoc:  31 | MSE  nan\n",
      "Epoc:  32 | MSE  nan\n",
      "Epoc:  33 | MSE  nan\n",
      "Epoc:  34 | MSE  nan\n",
      "Epoc:  35 | MSE  nan\n",
      "Epoc:  36 | MSE  nan\n",
      "Epoc:  37 | MSE  nan\n",
      "Epoc:  38 | MSE  nan\n",
      "Epoc:  39 | MSE  nan\n",
      "Epoc:  40 | MSE  nan\n",
      "Epoc:  41 | MSE  nan\n",
      "Epoc:  42 | MSE  nan\n",
      "Epoc:  43 | MSE  nan\n",
      "Epoc:  44 | MSE  nan\n",
      "Epoc:  45 | MSE  nan\n",
      "Epoc:  46 | MSE  nan\n",
      "Epoc:  47 | MSE  nan\n",
      "Epoc:  48 | MSE  nan\n",
      "Epoc:  49 | MSE  nan\n",
      "Epoc:  50 | MSE  nan\n"
     ]
    }
   ],
   "source": [
    "n_feature = X2_train.size(1)\n",
    "model = NNpt(n_features=n_feature)\n",
    "# Calling the model\n",
    "cost = train(model, X2_train, y2_train, n_epoch=50)"
   ]
  },
  {
   "cell_type": "code",
   "execution_count": 15,
   "metadata": {},
   "outputs": [
    {
     "data": {
      "text/plain": [
       "[]"
      ]
     },
     "execution_count": 15,
     "metadata": {},
     "output_type": "execute_result"
    },
    {
     "data": {
      "image/png": "[encoded data removed]",
      "text/plain": [
       "<Figure size 432x288 with 1 Axes>"
      ]
     },
     "metadata": {
      "needs_background": "light"
     },
     "output_type": "display_data"
    }
   ],
   "source": [
    "import matplotlib.pyplot as plt\n",
    "plt.plot(range(len(cost)), cost)\n",
    "plt.xlabel('No of Epochs')\n",
    "plt.ylabel('Mean Squared Error')\n",
    "plt.plot()\n"
   ]
  },
  {
   "cell_type": "markdown",
   "metadata": {},
   "source": [
    "Accuracy of Model: 2"
   ]
  },
  {
   "cell_type": "code",
   "execution_count": 16,
   "metadata": {},
   "outputs": [
    {
     "name": "stdout",
     "output_type": "stream",
     "text": [
      "Accuracy for Model: 2\n",
      "Training Accuracy: 48.00 %\n",
      "Testing Accuracy: 53.33 %\n"
     ]
    }
   ],
   "source": [
    "ones=torch.ones(y2_train.size(0))\n",
    "zero=torch.zeros(y2_train.size(0))\n",
    "train_pred=model.forward(X2_train)\n",
    "\n",
    "train_acc=torch.mean((torch.where( train_pred >0.5 , ones,zero).int()==y2_train).float())\n",
    "#print(train_acc)\n",
    "\n",
    "ones=torch.ones(y2_test.size(0))\n",
    "zero=torch.zeros(y2_test.size(0))\n",
    "test_pred=model.forward(X2_test)\n",
    "\n",
    "test_acc=torch.mean((torch.where( test_pred >0.5 , ones,zero).int()==y2_test).float())\n",
    "print(\"Accuracy for Model: 2\")\n",
    "print('Training Accuracy: %.2f' % (train_acc*100),'%')\n",
    "print('Testing Accuracy: %.2f' % (test_acc*100),'%')"
   ]
  }
 ],
 "metadata": {
  "kernelspec": {
   "display_name": "Python 3.10.7 64-bit",
   "language": "python",
   "name": "python3"
  },
  "language_info": {
   "codemirror_mode": {
    "name": "ipython",
    "version": 3
   },
   "file_extension": ".py",
   "mimetype": "text/x-python",
   "name": "python",
   "nbconvert_exporter": "python",
   "pygments_lexer": "ipython3",
   "version": "3.10.7"
  },
  "orig_nbformat": 4,
  "vscode": {
   "interpreter": {
    "hash": "3ee691e3c2883c6a130fe7a4fe904a1eaf00aeea2af805a016ed0d0bd8e74479"
   }
  }
 },
 "nbformat": 4,
 "nbformat_minor": 2
}
