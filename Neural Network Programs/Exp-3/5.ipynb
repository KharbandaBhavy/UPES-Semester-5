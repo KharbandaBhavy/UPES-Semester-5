{
 "cells": [
  {
   "cell_type": "code",
   "execution_count": 318,
   "metadata": {},
   "outputs": [],
   "source": [
    "# Code by Bhavy Kharbanda\n",
    "# Sap Id: 500082531 "
   ]
  },
  {
   "cell_type": "code",
   "execution_count": 319,
   "metadata": {},
   "outputs": [],
   "source": [
    "# Importing the libraries\n",
    "import torch\n",
    "import sklearn\n",
    "import numpy as np\n",
    "import pandas as pd\n",
    "import torch.nn as nn\n",
    "import torch.nn.functional as F\n",
    "import matplotlib.pyplot as plt\n"
   ]
  },
  {
   "cell_type": "code",
   "execution_count": 320,
   "metadata": {},
   "outputs": [],
   "source": [
    "from sklearn.datasets import make_classification\n",
    "from sklearn.model_selection import train_test_split\n",
    "from sklearn.preprocessing import StandardScaler\n",
    "from torch.utils.data import RandomSampler, DataLoader\n",
    "\n",
    "# make_classification to generate a random classification dataset\n",
    "# train_test split to split the data in training and testing\n",
    "# StandardScaler to Standardize features by removing the mean and scaling to unit variance.\n"
   ]
  },
  {
   "cell_type": "code",
   "execution_count": 321,
   "metadata": {},
   "outputs": [
    {
     "name": "stdout",
     "output_type": "stream",
     "text": [
      "Complete Data set: \n",
      "      Elevation  Aspect  Slope  Horizontal_Distance_To_Hydrology  \\\n",
      "0          2596      51      3                               258   \n",
      "1          2590      56      2                               212   \n",
      "2          2804     139      9                               268   \n",
      "3          2785     155     18                               242   \n",
      "4          2595      45      2                               153   \n",
      "...         ...     ...    ...                               ...   \n",
      "4995       3281     124      7                                30   \n",
      "4996       3258     122      4                                 0   \n",
      "4997       3241      52     21                                42   \n",
      "4998       2979      28     25                               108   \n",
      "4999       3669      29     24                               105   \n",
      "\n",
      "      Vertical_Distance_To_Hydrology  Horizontal_Distance_To_Roadways  \\\n",
      "0                                  0                              510   \n",
      "1                                 -6                              390   \n",
      "2                                 65                             3180   \n",
      "3                                118                             3090   \n",
      "4                                 -1                              391   \n",
      "...                              ...                              ...   \n",
      "4995                               2                             3842   \n",
      "4996                               0                             3607   \n",
      "4997                              -4                             3430   \n",
      "4998                              31                             1678   \n",
      "4999                              39                             1700   \n",
      "\n",
      "      Hillshade_9am  Hillshade_Noon  Hillshade_3pm  \\\n",
      "0               221             232            148   \n",
      "1               220             235            151   \n",
      "2               234             238            135   \n",
      "3               238             238            122   \n",
      "4               220             234            150   \n",
      "...             ...             ...            ...   \n",
      "4995            232             235            136   \n",
      "4996            228             236            143   \n",
      "4997            226             190             88   \n",
      "4998            202             178            101   \n",
      "4999            200             165            190   \n",
      "\n",
      "      Horizontal_Distance_To_Fire_Points  Wilderness_Area1  \n",
      "0                                   6279                 1  \n",
      "1                                   6225                 1  \n",
      "2                                   6121                 1  \n",
      "3                                   6211                 1  \n",
      "4                                   6172                 1  \n",
      "...                                  ...               ...  \n",
      "4995                                3613                 1  \n",
      "4996                                3717                 1  \n",
      "4997                                3803                 1  \n",
      "4998                                3581                 1  \n",
      "4999                                3542                 0  \n",
      "\n",
      "[5000 rows x 11 columns]\n"
     ]
    }
   ],
   "source": [
    "# Importing the datset \n",
    "data = pd.read_csv ('Forest.csv')\n",
    "print (\"Complete Data set: \")\n",
    "print(data)\n"
   ]
  },
  {
   "cell_type": "code",
   "execution_count": 322,
   "metadata": {},
   "outputs": [
    {
     "data": {
      "text/html": [
       "<div>\n",
       "<style scoped>\n",
       "    .dataframe tbody tr th:only-of-type {\n",
       "        vertical-align: middle;\n",
       "    }\n",
       "\n",
       "    .dataframe tbody tr th {\n",
       "        vertical-align: top;\n",
       "    }\n",
       "\n",
       "    .dataframe thead th {\n",
       "        text-align: right;\n",
       "    }\n",
       "</style>\n",
       "<table border=\"1\" class=\"dataframe\">\n",
       "  <thead>\n",
       "    <tr style=\"text-align: right;\">\n",
       "      <th></th>\n",
       "      <th>Elevation</th>\n",
       "      <th>Aspect</th>\n",
       "      <th>Slope</th>\n",
       "      <th>Horizontal_Distance_To_Hydrology</th>\n",
       "      <th>Vertical_Distance_To_Hydrology</th>\n",
       "      <th>Horizontal_Distance_To_Roadways</th>\n",
       "      <th>Hillshade_9am</th>\n",
       "      <th>Hillshade_Noon</th>\n",
       "      <th>Hillshade_3pm</th>\n",
       "      <th>Horizontal_Distance_To_Fire_Points</th>\n",
       "      <th>Wilderness_Area1</th>\n",
       "    </tr>\n",
       "  </thead>\n",
       "  <tbody>\n",
       "    <tr>\n",
       "      <th>0</th>\n",
       "      <td>2596</td>\n",
       "      <td>51</td>\n",
       "      <td>3</td>\n",
       "      <td>258</td>\n",
       "      <td>0</td>\n",
       "      <td>510</td>\n",
       "      <td>221</td>\n",
       "      <td>232</td>\n",
       "      <td>148</td>\n",
       "      <td>6279</td>\n",
       "      <td>1</td>\n",
       "    </tr>\n",
       "    <tr>\n",
       "      <th>1</th>\n",
       "      <td>2590</td>\n",
       "      <td>56</td>\n",
       "      <td>2</td>\n",
       "      <td>212</td>\n",
       "      <td>-6</td>\n",
       "      <td>390</td>\n",
       "      <td>220</td>\n",
       "      <td>235</td>\n",
       "      <td>151</td>\n",
       "      <td>6225</td>\n",
       "      <td>1</td>\n",
       "    </tr>\n",
       "    <tr>\n",
       "      <th>2</th>\n",
       "      <td>2804</td>\n",
       "      <td>139</td>\n",
       "      <td>9</td>\n",
       "      <td>268</td>\n",
       "      <td>65</td>\n",
       "      <td>3180</td>\n",
       "      <td>234</td>\n",
       "      <td>238</td>\n",
       "      <td>135</td>\n",
       "      <td>6121</td>\n",
       "      <td>1</td>\n",
       "    </tr>\n",
       "    <tr>\n",
       "      <th>3</th>\n",
       "      <td>2785</td>\n",
       "      <td>155</td>\n",
       "      <td>18</td>\n",
       "      <td>242</td>\n",
       "      <td>118</td>\n",
       "      <td>3090</td>\n",
       "      <td>238</td>\n",
       "      <td>238</td>\n",
       "      <td>122</td>\n",
       "      <td>6211</td>\n",
       "      <td>1</td>\n",
       "    </tr>\n",
       "    <tr>\n",
       "      <th>4</th>\n",
       "      <td>2595</td>\n",
       "      <td>45</td>\n",
       "      <td>2</td>\n",
       "      <td>153</td>\n",
       "      <td>-1</td>\n",
       "      <td>391</td>\n",
       "      <td>220</td>\n",
       "      <td>234</td>\n",
       "      <td>150</td>\n",
       "      <td>6172</td>\n",
       "      <td>1</td>\n",
       "    </tr>\n",
       "  </tbody>\n",
       "</table>\n",
       "</div>"
      ],
      "text/plain": [
       "   Elevation  Aspect  Slope  Horizontal_Distance_To_Hydrology  \\\n",
       "0       2596      51      3                               258   \n",
       "1       2590      56      2                               212   \n",
       "2       2804     139      9                               268   \n",
       "3       2785     155     18                               242   \n",
       "4       2595      45      2                               153   \n",
       "\n",
       "   Vertical_Distance_To_Hydrology  Horizontal_Distance_To_Roadways  \\\n",
       "0                               0                              510   \n",
       "1                              -6                              390   \n",
       "2                              65                             3180   \n",
       "3                             118                             3090   \n",
       "4                              -1                              391   \n",
       "\n",
       "   Hillshade_9am  Hillshade_Noon  Hillshade_3pm  \\\n",
       "0            221             232            148   \n",
       "1            220             235            151   \n",
       "2            234             238            135   \n",
       "3            238             238            122   \n",
       "4            220             234            150   \n",
       "\n",
       "   Horizontal_Distance_To_Fire_Points  Wilderness_Area1  \n",
       "0                                6279                 1  \n",
       "1                                6225                 1  \n",
       "2                                6121                 1  \n",
       "3                                6211                 1  \n",
       "4                                6172                 1  "
      ]
     },
     "execution_count": 322,
     "metadata": {},
     "output_type": "execute_result"
    }
   ],
   "source": [
    "data.head()"
   ]
  },
  {
   "cell_type": "code",
   "execution_count": 323,
   "metadata": {},
   "outputs": [
    {
     "name": "stdout",
     "output_type": "stream",
     "text": [
      "(5000, 11)\n",
      "(5000, 1)\n"
     ]
    }
   ],
   "source": [
    "# Selecting the dataset for X and y\n",
    "X = data.iloc[:,:]\n",
    "y = data.iloc[:,10:]\n",
    "print(X.shape)\n",
    "print(y.shape)"
   ]
  },
  {
   "cell_type": "code",
   "execution_count": 324,
   "metadata": {},
   "outputs": [
    {
     "name": "stdout",
     "output_type": "stream",
     "text": [
      "      Elevation  Aspect  Slope  Horizontal_Distance_To_Hydrology  \\\n",
      "0          2596      51      3                               258   \n",
      "1          2590      56      2                               212   \n",
      "2          2804     139      9                               268   \n",
      "3          2785     155     18                               242   \n",
      "4          2595      45      2                               153   \n",
      "...         ...     ...    ...                               ...   \n",
      "4995       3281     124      7                                30   \n",
      "4996       3258     122      4                                 0   \n",
      "4997       3241      52     21                                42   \n",
      "4998       2979      28     25                               108   \n",
      "4999       3669      29     24                               105   \n",
      "\n",
      "      Vertical_Distance_To_Hydrology  Horizontal_Distance_To_Roadways  \\\n",
      "0                                  0                              510   \n",
      "1                                 -6                              390   \n",
      "2                                 65                             3180   \n",
      "3                                118                             3090   \n",
      "4                                 -1                              391   \n",
      "...                              ...                              ...   \n",
      "4995                               2                             3842   \n",
      "4996                               0                             3607   \n",
      "4997                              -4                             3430   \n",
      "4998                              31                             1678   \n",
      "4999                              39                             1700   \n",
      "\n",
      "      Hillshade_9am  Hillshade_Noon  Hillshade_3pm  \\\n",
      "0               221             232            148   \n",
      "1               220             235            151   \n",
      "2               234             238            135   \n",
      "3               238             238            122   \n",
      "4               220             234            150   \n",
      "...             ...             ...            ...   \n",
      "4995            232             235            136   \n",
      "4996            228             236            143   \n",
      "4997            226             190             88   \n",
      "4998            202             178            101   \n",
      "4999            200             165            190   \n",
      "\n",
      "      Horizontal_Distance_To_Fire_Points  Wilderness_Area1  \n",
      "0                                   6279                 1  \n",
      "1                                   6225                 1  \n",
      "2                                   6121                 1  \n",
      "3                                   6211                 1  \n",
      "4                                   6172                 1  \n",
      "...                                  ...               ...  \n",
      "4995                                3613                 1  \n",
      "4996                                3717                 1  \n",
      "4997                                3803                 1  \n",
      "4998                                3581                 1  \n",
      "4999                                3542                 0  \n",
      "\n",
      "[5000 rows x 11 columns]\n",
      "      Wilderness_Area1\n",
      "0                    1\n",
      "1                    1\n",
      "2                    1\n",
      "3                    1\n",
      "4                    1\n",
      "...                ...\n",
      "4995                 1\n",
      "4996                 1\n",
      "4997                 1\n",
      "4998                 1\n",
      "4999                 0\n",
      "\n",
      "[5000 rows x 1 columns]\n"
     ]
    }
   ],
   "source": [
    "# Printing the final dataset\n",
    "print(X)\n",
    "print(y)"
   ]
  },
  {
   "cell_type": "code",
   "execution_count": 325,
   "metadata": {},
   "outputs": [],
   "source": [
    "# Change it into the Tensor objects\n",
    "X = torch.tensor(X.values, dtype=torch.float32)\n",
    "y = torch.tensor(y.values, dtype=torch.float32)"
   ]
  },
  {
   "cell_type": "code",
   "execution_count": 326,
   "metadata": {},
   "outputs": [
    {
     "name": "stdout",
     "output_type": "stream",
     "text": [
      "Size of training dataset: \n",
      "torch.Size([3500, 11])\n",
      "Size of testing dataset: \n",
      "torch.Size([1500, 11])\n"
     ]
    }
   ],
   "source": [
    "# Direct function in sklearn to split the dataset\n",
    "X_train, X_test, y_train, y_test = train_test_split( X, y, test_size=.3, random_state=4)\n",
    "print(\"Size of training dataset: \")\n",
    "print(X_train.shape)\n",
    "print(\"Size of testing dataset: \")\n",
    "print(X_test.shape)\n",
    "\n"
   ]
  },
  {
   "cell_type": "code",
   "execution_count": 327,
   "metadata": {},
   "outputs": [],
   "source": [
    "# Initializing the values\n",
    "class NNpt(nn.Module):\n",
    "    def __init__(self, n_features):\n",
    "        super(NNpt, self).__init__()\n",
    "        self.linear = nn.Linear(n_features, 1)\n",
    "\n",
    "        self.linear.weight.detach().zero_()\n",
    "        self.linear.bias.detach().zero_()\n",
    "\n",
    "    def forward(self, x):\n",
    "        out = self.linear(x)\n",
    "        return out.view(-1)\n",
    "\n",
    "\n",
    "def loss_fn(yhat, y):\n",
    "    return torch.mean((yhat-y)**2)\n"
   ]
  },
  {
   "cell_type": "code",
   "execution_count": 328,
   "metadata": {},
   "outputs": [],
   "source": [
    "# Driving function\n",
    "def train(model, x, y, n_epoch=10, lr=0.01, seed=23, bsz=20):\n",
    "\n",
    "    cost = []\n",
    "    torch.manual_seed(seed)\n",
    "    # To optimize our algorithm\n",
    "    optimizer = torch.optim.SGD(model.parameters(), lr=lr)\n",
    "    for i in range(n_epoch):\n",
    "        suffle_idx = torch.randperm(y.size(0))\n",
    "        batches = torch.split(suffle_idx, bsz)\n",
    "\n",
    "        for idx in batches:\n",
    "            # 1. Compute the Output\n",
    "            yhat = model.forward(x[idx])\n",
    "\n",
    "            # 2. Compute the Loss\n",
    "            loss = torch.nn.functional.mse_loss(yhat, y[idx])\n",
    "\n",
    "            # 3. Compute the Gradients\n",
    "            optimizer.zero_grad()\n",
    "            loss.backward()\n",
    "\n",
    "            # 4. Update the Model Parameters\n",
    "            optimizer.step()\n",
    "\n",
    "            # model.weight=model.weight-lr*grad_w\n",
    "            # model.bias=model.bias-lr*grad_b\n",
    "\n",
    "        # 5. Log and print the Loss\n",
    "        with torch.no_grad():\n",
    "            yhat = model.forward(x)\n",
    "            curr_loss = loss_fn(yhat, y)\n",
    "            print('Epoc: %3d ' % (i+1), end=\"\")\n",
    "            print('| MSE % .5f' % curr_loss)\n",
    "            cost.append(curr_loss)\n",
    "\n",
    "    return cost\n"
   ]
  },
  {
   "cell_type": "code",
   "execution_count": 329,
   "metadata": {},
   "outputs": [
    {
     "name": "stdout",
     "output_type": "stream",
     "text": [
      "Epoc:   1 | MSE  nan\n"
     ]
    },
    {
     "name": "stderr",
     "output_type": "stream",
     "text": [
      "C:\\Users\\bhavy\\AppData\\Local\\Temp\\ipykernel_18340\\5868854.py:17: UserWarning: Using a target size (torch.Size([20, 1])) that is different to the input size (torch.Size([20])). This will likely lead to incorrect results due to broadcasting. Please ensure they have the same size.\n",
      "  loss = torch.nn.functional.mse_loss(yhat, y[idx])\n"
     ]
    },
    {
     "name": "stdout",
     "output_type": "stream",
     "text": [
      "Epoc:   2 | MSE  nan\n",
      "Epoc:   3 | MSE  nan\n",
      "Epoc:   4 | MSE  nan\n",
      "Epoc:   5 | MSE  nan\n",
      "Epoc:   6 | MSE  nan\n",
      "Epoc:   7 | MSE  nan\n",
      "Epoc:   8 | MSE  nan\n",
      "Epoc:   9 | MSE  nan\n",
      "Epoc:  10 | MSE  nan\n",
      "Epoc:  11 | MSE  nan\n",
      "Epoc:  12 | MSE  nan\n",
      "Epoc:  13 | MSE  nan\n",
      "Epoc:  14 | MSE  nan\n",
      "Epoc:  15 | MSE  nan\n",
      "Epoc:  16 | MSE  nan\n",
      "Epoc:  17 | MSE  nan\n",
      "Epoc:  18 | MSE  nan\n",
      "Epoc:  19 | MSE  nan\n",
      "Epoc:  20 | MSE  nan\n",
      "Epoc:  21 | MSE  nan\n",
      "Epoc:  22 | MSE  nan\n",
      "Epoc:  23 | MSE  nan\n",
      "Epoc:  24 | MSE  nan\n",
      "Epoc:  25 | MSE  nan\n",
      "Epoc:  26 | MSE  nan\n",
      "Epoc:  27 | MSE  nan\n",
      "Epoc:  28 | MSE  nan\n",
      "Epoc:  29 | MSE  nan\n",
      "Epoc:  30 | MSE  nan\n",
      "Epoc:  31 | MSE  nan\n",
      "Epoc:  32 | MSE  nan\n",
      "Epoc:  33 | MSE  nan\n",
      "Epoc:  34 | MSE  nan\n",
      "Epoc:  35 | MSE  nan\n",
      "Epoc:  36 | MSE  nan\n",
      "Epoc:  37 | MSE  nan\n",
      "Epoc:  38 | MSE  nan\n",
      "Epoc:  39 | MSE  nan\n",
      "Epoc:  40 | MSE  nan\n",
      "Epoc:  41 | MSE  nan\n",
      "Epoc:  42 | MSE  nan\n",
      "Epoc:  43 | MSE  nan\n",
      "Epoc:  44 | MSE  nan\n",
      "Epoc:  45 | MSE  nan\n",
      "Epoc:  46 | MSE  nan\n",
      "Epoc:  47 | MSE  nan\n",
      "Epoc:  48 | MSE  nan\n",
      "Epoc:  49 | MSE  nan\n",
      "Epoc:  50 | MSE  nan\n"
     ]
    }
   ],
   "source": [
    "n_feature = X_train.size(1)\n",
    "model = NNpt(n_features=n_feature)\n",
    "# Calling the model\n",
    "cost = train(model, X_train, y_train, n_epoch=50)\n"
   ]
  },
  {
   "cell_type": "code",
   "execution_count": 330,
   "metadata": {},
   "outputs": [
    {
     "data": {
      "text/plain": [
       "[]"
      ]
     },
     "execution_count": 330,
     "metadata": {},
     "output_type": "execute_result"
    },
    {
     "data": {
      "image/png": "[encoded data removed]",
      "text/plain": [
       "<Figure size 432x288 with 1 Axes>"
      ]
     },
     "metadata": {
      "needs_background": "light"
     },
     "output_type": "display_data"
    }
   ],
   "source": [
    "import matplotlib.pyplot as plt\n",
    "plt.plot(range(len(cost)), cost)\n",
    "plt.xlabel('No of Epochs')\n",
    "plt.ylabel('Mean Squared Error')\n",
    "plt.plot()"
   ]
  },
  {
   "cell_type": "code",
   "execution_count": 331,
   "metadata": {},
   "outputs": [
    {
     "name": "stdout",
     "output_type": "stream",
     "text": [
      "Accuracy for Model \n",
      "Training Accuracy: 56.43 %\n",
      "Testing Accuracy: 56.73 %\n"
     ]
    }
   ],
   "source": [
    "ones=torch.ones(y_train.size(0))\n",
    "zero=torch.zeros(y_train.size(0))\n",
    "train_pred=model.forward(X_train)\n",
    "\n",
    "train_acc=torch.mean((torch.where( train_pred >0.5 , ones,zero).int()==y_train).float())\n",
    "#print(train_acc)\n",
    "\n",
    "ones=torch.ones(y_test.size(0))\n",
    "zero=torch.zeros(y_test.size(0))\n",
    "test_pred=model.forward(X_test)\n",
    "\n",
    "test_acc=torch.mean((torch.where( test_pred >0.5 , ones,zero).int()==y_test).float())\n",
    "print(\"Accuracy for Model \")\n",
    "print('Training Accuracy: %.2f' % (train_acc*100),'%')\n",
    "print('Testing Accuracy: %.2f' % (test_acc*100),'%')"
   ]
  }
 ],
 "metadata": {
  "kernelspec": {
   "display_name": "Python 3.10.7 64-bit",
   "language": "python",
   "name": "python3"
  },
  "language_info": {
   "codemirror_mode": {
    "name": "ipython",
    "version": 3
   },
   "file_extension": ".py",
   "mimetype": "text/x-python",
   "name": "python",
   "nbconvert_exporter": "python",
   "pygments_lexer": "ipython3",
   "version": "3.10.7"
  },
  "orig_nbformat": 4,
  "vscode": {
   "interpreter": {
    "hash": "3ee691e3c2883c6a130fe7a4fe904a1eaf00aeea2af805a016ed0d0bd8e74479"
   }
  }
 },
 "nbformat": 4,
 "nbformat_minor": 2
}
