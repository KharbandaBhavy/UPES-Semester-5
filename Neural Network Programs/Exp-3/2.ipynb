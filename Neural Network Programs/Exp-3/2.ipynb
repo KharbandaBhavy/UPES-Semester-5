{
 "cells": [
  {
   "cell_type": "markdown",
   "metadata": {},
   "source": [
    "Training the same model using pytorch inbuilt functions"
   ]
  },
  {
   "cell_type": "code",
   "execution_count": 48,
   "metadata": {},
   "outputs": [],
   "source": [
    "# Code by Bhavy Kharbanda\n",
    "# Sap Id: 500082531"
   ]
  },
  {
   "cell_type": "code",
   "execution_count": 49,
   "metadata": {},
   "outputs": [],
   "source": [
    "# Importing the libraries\n",
    "import torch\n",
    "import sklearn\n",
    "import torch.nn as nn\n",
    "import torch.nn.functional as F"
   ]
  },
  {
   "cell_type": "code",
   "execution_count": 50,
   "metadata": {},
   "outputs": [],
   "source": [
    "from sklearn.datasets import make_classification\n",
    "from sklearn.model_selection import train_test_split\n",
    "from sklearn.preprocessing import StandardScaler\n",
    "\n",
    "# make_classification to generate a random classification dataset\n",
    "# train_test split to split the data in training and testing\n",
    "# StandardScaler to Standardize features by removing the mean and scaling to unit variance.\n"
   ]
  },
  {
   "cell_type": "code",
   "execution_count": 51,
   "metadata": {},
   "outputs": [],
   "source": [
    "# Creating The dataset\n",
    "X,y=make_classification(n_samples=1000,n_classes=2,n_features=4)\n",
    "\n",
    "# Normalizing the Dataset\n",
    "scaler=StandardScaler()\n",
    "X=scaler.fit_transform(X)\n",
    "\n",
    "# Converting Array to Tensor objects\n",
    "X=torch.tensor(X,dtype=torch.float32)\n",
    "y=torch.tensor(y,dtype=torch.float32)"
   ]
  },
  {
   "cell_type": "code",
   "execution_count": 52,
   "metadata": {},
   "outputs": [
    {
     "name": "stdout",
     "output_type": "stream",
     "text": [
      "torch.Size([700, 4])\n",
      "torch.Size([300, 4])\n"
     ]
    }
   ],
   "source": [
    "X_train,X_test,y_train,y_test=train_test_split(X,y,test_size=.3,random_state=21)\n",
    "print(X_train.shape)\n",
    "print(X_test.shape)\n",
    "# Direct function in sklearn to split the dataset"
   ]
  },
  {
   "cell_type": "code",
   "execution_count": 53,
   "metadata": {},
   "outputs": [],
   "source": [
    "class NNpt(nn.Module):\n",
    "  def __init__(self,n_features):\n",
    "    super(NNpt,self).__init__()\n",
    "    self.linear=nn.Linear(n_features,1)\n",
    "\n",
    "    self.linear.weight.detach().zero_()\n",
    "    self.linear.bias.detach().zero_()\n",
    "\n",
    "\n",
    "  def forward(self,x):\n",
    "    out=self.linear(x)\n",
    "    return out.view(-1)\n",
    "\n",
    "def loss_fn(yhat,y):\n",
    "  return torch.mean((yhat-y)**2)"
   ]
  },
  {
   "cell_type": "code",
   "execution_count": 54,
   "metadata": {},
   "outputs": [],
   "source": [
    "def train(model,x,y,n_epoch=10,lr=0.001,seed=23,bsz=50):\n",
    "\n",
    "  cost=[]\n",
    "  torch.manual_seed(seed)\n",
    "   # To optimize our algorithm\n",
    "  optimizer=torch.optim.SGD(model.parameters(),lr=lr)\n",
    "  for i in range(n_epoch):\n",
    "    suffle_idx=torch.randperm(y.size(0))\n",
    "    batches=torch.split(suffle_idx,bsz)\n",
    "\n",
    "    for idx in batches:\n",
    "      # 1. Compute the Output\n",
    "      yhat=model.forward(x[idx])\n",
    "\n",
    "      # 2. Compute the Loss\n",
    "      loss=torch.nn.functional.mse_loss(yhat,y[idx])\n",
    "\n",
    "      # 3. Compute the Gradients\n",
    "      optimizer.zero_grad()\n",
    "      loss.backward()\n",
    "\n",
    "      # 4. Update the Model Parameters\n",
    "      optimizer.step()\n",
    "\n",
    "      #model.weight=model.weight-lr*grad_w\n",
    "      #model.bias=model.bias-lr*grad_b\n",
    "\n",
    "    # 5. Log and print the Loss\n",
    "    with torch.no_grad():\n",
    "      yhat=model.forward(x)\n",
    "      curr_loss=loss_fn(yhat,y)\n",
    "      print('Epoc: %3d ' % (i+1),end=\"\")\n",
    "      print('| MSE % .5f' % curr_loss)\n",
    "      cost.append(curr_loss)\n",
    "      \n",
    "  return cost"
   ]
  },
  {
   "cell_type": "code",
   "execution_count": 55,
   "metadata": {},
   "outputs": [
    {
     "name": "stdout",
     "output_type": "stream",
     "text": [
      "Epoc:   1 | MSE  0.45627\n",
      "Epoc:   2 | MSE  0.42968\n",
      "Epoc:   3 | MSE  0.40563\n",
      "Epoc:   4 | MSE  0.38386\n",
      "Epoc:   5 | MSE  0.36406\n",
      "Epoc:   6 | MSE  0.34603\n",
      "Epoc:   7 | MSE  0.32962\n",
      "Epoc:   8 | MSE  0.31459\n",
      "Epoc:   9 | MSE  0.30083\n",
      "Epoc:  10 | MSE  0.28822\n",
      "Epoc:  11 | MSE  0.27661\n",
      "Epoc:  12 | MSE  0.26592\n",
      "Epoc:  13 | MSE  0.25608\n",
      "Epoc:  14 | MSE  0.24697\n",
      "Epoc:  15 | MSE  0.23854\n",
      "Epoc:  16 | MSE  0.23074\n",
      "Epoc:  17 | MSE  0.22349\n",
      "Epoc:  18 | MSE  0.21677\n",
      "Epoc:  19 | MSE  0.21050\n",
      "Epoc:  20 | MSE  0.20465\n",
      "Epoc:  21 | MSE  0.19920\n",
      "Epoc:  22 | MSE  0.19410\n",
      "Epoc:  23 | MSE  0.18934\n",
      "Epoc:  24 | MSE  0.18489\n",
      "Epoc:  25 | MSE  0.18072\n",
      "Epoc:  26 | MSE  0.17682\n",
      "Epoc:  27 | MSE  0.17316\n",
      "Epoc:  28 | MSE  0.16971\n",
      "Epoc:  29 | MSE  0.16649\n",
      "Epoc:  30 | MSE  0.16345\n",
      "Epoc:  31 | MSE  0.16060\n",
      "Epoc:  32 | MSE  0.15792\n",
      "Epoc:  33 | MSE  0.15539\n",
      "Epoc:  34 | MSE  0.15302\n",
      "Epoc:  35 | MSE  0.15078\n",
      "Epoc:  36 | MSE  0.14868\n",
      "Epoc:  37 | MSE  0.14669\n",
      "Epoc:  38 | MSE  0.14482\n",
      "Epoc:  39 | MSE  0.14305\n",
      "Epoc:  40 | MSE  0.14139\n",
      "Epoc:  41 | MSE  0.13982\n",
      "Epoc:  42 | MSE  0.13834\n",
      "Epoc:  43 | MSE  0.13694\n",
      "Epoc:  44 | MSE  0.13562\n",
      "Epoc:  45 | MSE  0.13437\n",
      "Epoc:  46 | MSE  0.13319\n",
      "Epoc:  47 | MSE  0.13208\n",
      "Epoc:  48 | MSE  0.13103\n",
      "Epoc:  49 | MSE  0.13004\n",
      "Epoc:  50 | MSE  0.12911\n"
     ]
    }
   ],
   "source": [
    "n_feature=X_train.size(1)\n",
    "model=NNpt(n_features=n_feature)\n",
    "# Calling the model\n",
    "cost=train(model,X_train,y_train,n_epoch=50)"
   ]
  },
  {
   "cell_type": "code",
   "execution_count": 56,
   "metadata": {},
   "outputs": [
    {
     "data": {
      "text/plain": [
       "[]"
      ]
     },
     "execution_count": 56,
     "metadata": {},
     "output_type": "execute_result"
    },
    {
     "data": {
      "image/png": "[encoded data removed]",
      "text/plain": [
       "<Figure size 432x288 with 1 Axes>"
      ]
     },
     "metadata": {
      "needs_background": "light"
     },
     "output_type": "display_data"
    }
   ],
   "source": [
    "import matplotlib.pyplot as plt\n",
    "plt.plot(range(len(cost)),cost)\n",
    "plt.xlabel('No of Epochs')\n",
    "plt.ylabel('Mean Squared Error')\n",
    "plt.plot()"
   ]
  },
  {
   "cell_type": "code",
   "execution_count": 57,
   "metadata": {},
   "outputs": [
    {
     "name": "stdout",
     "output_type": "stream",
     "text": [
      "Training Accuracy: 86.57 %\n",
      "Testing Accuracy: 88.67 %\n"
     ]
    }
   ],
   "source": [
    "ones=torch.ones(y_train.size(0))\n",
    "zero=torch.zeros(y_train.size(0))\n",
    "train_pred=model.forward(X_train)\n",
    "\n",
    "train_acc=torch.mean((torch.where( train_pred >0.5 , ones,zero).int()==y_train).float())\n",
    "#print(train_acc)\n",
    "\n",
    "ones=torch.ones(y_test.size(0))\n",
    "zero=torch.zeros(y_test.size(0))\n",
    "test_pred=model.forward(X_test)\n",
    "\n",
    "test_acc=torch.mean((torch.where( test_pred >0.5 , ones,zero).int()==y_test).float())\n",
    "print('Training Accuracy: %.2f' % (train_acc*100),'%')\n",
    "print('Testing Accuracy: %.2f' % (test_acc*100),'%')"
   ]
  },
  {
   "cell_type": "markdown",
   "metadata": {},
   "source": [
    "Logistic Regression on the same model, \n",
    "Just changing the way how we calculate the loss."
   ]
  },
  {
   "cell_type": "code",
   "execution_count": 58,
   "metadata": {},
   "outputs": [],
   "source": [
    "def train(model,x,y,n_epoch=10,lr=0.001,seed=23,bsz=50):\n",
    "\n",
    "  cost=[]\n",
    "  torch.manual_seed(seed)\n",
    "   ### Optimizer\n",
    "  optimizer=torch.optim.SGD(model.parameters(),lr=lr)\n",
    "  for i in range(n_epoch):\n",
    "    suffle_idx=torch.randperm(y.size(0))\n",
    "    batches=torch.split(suffle_idx,bsz)\n",
    "\n",
    "    for idx in batches:\n",
    "      # 1. Compute the Output\n",
    "      yhat=model.forward(x[idx])\n",
    "\n",
    "      # 2. Compute the Loss\n",
    "      loss=torch.nn.functional.binary_cross_entropy(torch.sigmoid(yhat),y[idx])\n",
    "      # Function that measures the Binary Cross Entropy between the target and input probabilities\n",
    "\n",
    "      # 3. Compute the Gradients\n",
    "      optimizer.zero_grad()\n",
    "      loss.backward()\n",
    "\n",
    "      # 4. Update the Model Parameters\n",
    "      optimizer.step()\n",
    "\n",
    "      #model.weight=model.weight-lr*grad_w\n",
    "      #model.bias=model.bias-lr*grad_b\n",
    "\n",
    "    # 5. Log and print the Loss\n",
    "    with torch.no_grad():\n",
    "      yhat=model.forward(x)\n",
    "      curr_loss=loss_fn(yhat,y)\n",
    "      print('Epoc: %3d ' % (i+1),end=\"\")\n",
    "      print('| MSE % .5f' % curr_loss)\n",
    "      cost.append(curr_loss)\n",
    "      \n",
    "  return cost"
   ]
  },
  {
   "cell_type": "code",
   "execution_count": 59,
   "metadata": {},
   "outputs": [],
   "source": [
    "n_feature=X_train.size(1)\n",
    "model=NNpt(n_features=n_feature)"
   ]
  },
  {
   "cell_type": "code",
   "execution_count": 60,
   "metadata": {},
   "outputs": [
    {
     "name": "stdout",
     "output_type": "stream",
     "text": [
      "Epoc:   1 | MSE  0.47681\n",
      "Epoc:   2 | MSE  0.46834\n",
      "Epoc:   3 | MSE  0.46028\n",
      "Epoc:   4 | MSE  0.45263\n",
      "Epoc:   5 | MSE  0.44538\n",
      "Epoc:   6 | MSE  0.43852\n",
      "Epoc:   7 | MSE  0.43204\n",
      "Epoc:   8 | MSE  0.42592\n",
      "Epoc:   9 | MSE  0.42017\n",
      "Epoc:  10 | MSE  0.41476\n",
      "Epoc:  11 | MSE  0.40970\n",
      "Epoc:  12 | MSE  0.40498\n",
      "Epoc:  13 | MSE  0.40058\n",
      "Epoc:  14 | MSE  0.39650\n",
      "Epoc:  15 | MSE  0.39273\n",
      "Epoc:  16 | MSE  0.38926\n",
      "Epoc:  17 | MSE  0.38608\n",
      "Epoc:  18 | MSE  0.38320\n",
      "Epoc:  19 | MSE  0.38059\n",
      "Epoc:  20 | MSE  0.37825\n",
      "Epoc:  21 | MSE  0.37619\n",
      "Epoc:  22 | MSE  0.37438\n",
      "Epoc:  23 | MSE  0.37282\n",
      "Epoc:  24 | MSE  0.37151\n",
      "Epoc:  25 | MSE  0.37045\n",
      "Epoc:  26 | MSE  0.36961\n",
      "Epoc:  27 | MSE  0.36901\n",
      "Epoc:  28 | MSE  0.36863\n",
      "Epoc:  29 | MSE  0.36846\n",
      "Epoc:  30 | MSE  0.36851\n",
      "Epoc:  31 | MSE  0.36877\n",
      "Epoc:  32 | MSE  0.36922\n",
      "Epoc:  33 | MSE  0.36987\n",
      "Epoc:  34 | MSE  0.37072\n",
      "Epoc:  35 | MSE  0.37175\n",
      "Epoc:  36 | MSE  0.37296\n",
      "Epoc:  37 | MSE  0.37435\n",
      "Epoc:  38 | MSE  0.37592\n",
      "Epoc:  39 | MSE  0.37765\n",
      "Epoc:  40 | MSE  0.37954\n",
      "Epoc:  41 | MSE  0.38160\n",
      "Epoc:  42 | MSE  0.38382\n",
      "Epoc:  43 | MSE  0.38618\n",
      "Epoc:  44 | MSE  0.38870\n",
      "Epoc:  45 | MSE  0.39136\n",
      "Epoc:  46 | MSE  0.39416\n",
      "Epoc:  47 | MSE  0.39710\n",
      "Epoc:  48 | MSE  0.40018\n",
      "Epoc:  49 | MSE  0.40339\n",
      "Epoc:  50 | MSE  0.40672\n"
     ]
    }
   ],
   "source": [
    "cost=train(model,X_train,y_train,n_epoch=50)"
   ]
  },
  {
   "cell_type": "code",
   "execution_count": 61,
   "metadata": {},
   "outputs": [
    {
     "data": {
      "text/plain": [
       "[]"
      ]
     },
     "execution_count": 61,
     "metadata": {},
     "output_type": "execute_result"
    },
    {
     "data": {
      "image/png": "[encoded data removed]",
      "text/plain": [
       "<Figure size 432x288 with 1 Axes>"
      ]
     },
     "metadata": {
      "needs_background": "light"
     },
     "output_type": "display_data"
    }
   ],
   "source": [
    "plt.plot(range(len(cost)),cost)\n",
    "plt.xlabel('No of Epochs')\n",
    "plt.ylabel('Mean Squared Error')\n",
    "plt.plot()"
   ]
  },
  {
   "cell_type": "code",
   "execution_count": 62,
   "metadata": {},
   "outputs": [
    {
     "name": "stdout",
     "output_type": "stream",
     "text": [
      "Training Accuracy: 64.57 %\n",
      "Testing Accuracy: 63.67 %\n"
     ]
    }
   ],
   "source": [
    "ones=torch.ones(y_train.size(0))\n",
    "zero=torch.zeros(y_train.size(0))\n",
    "train_pred=model.forward(X_train)\n",
    "\n",
    "train_acc=torch.mean((torch.where( train_pred >0.5 , ones,zero).int()==y_train).float())\n",
    "#print(train_acc)\n",
    "\n",
    "ones=torch.ones(y_test.size(0))\n",
    "zero=torch.zeros(y_test.size(0))\n",
    "test_pred=model.forward(X_test)\n",
    "\n",
    "test_acc=torch.mean((torch.where( test_pred >0.5 , ones,zero).int()==y_test).float())\n",
    "print('Training Accuracy: %.2f' % (train_acc*100),'%')\n",
    "print('Testing Accuracy: %.2f' % (test_acc*100),'%')"
   ]
  }
 ],
 "metadata": {
  "kernelspec": {
   "display_name": "Python 3.10.6 64-bit",
   "language": "python",
   "name": "python3"
  },
  "language_info": {
   "codemirror_mode": {
    "name": "ipython",
    "version": 3
   },
   "file_extension": ".py",
   "mimetype": "text/x-python",
   "name": "python",
   "nbconvert_exporter": "python",
   "pygments_lexer": "ipython3",
   "version": "3.10.7"
  },
  "orig_nbformat": 4,
  "vscode": {
   "interpreter": {
    "hash": "3ee691e3c2883c6a130fe7a4fe904a1eaf00aeea2af805a016ed0d0bd8e74479"
   }
  }
 },
 "nbformat": 4,
 "nbformat_minor": 2
}
