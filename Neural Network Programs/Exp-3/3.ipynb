{
 "cells": [
  {
   "cell_type": "markdown",
   "metadata": {},
   "source": [
    "Variation in the code: Comparing the Learning rates on the same model."
   ]
  },
  {
   "cell_type": "code",
   "execution_count": 139,
   "metadata": {},
   "outputs": [],
   "source": [
    "# Code by Bhavy Kharbanda\n",
    "# Sap Id: 500082531"
   ]
  },
  {
   "cell_type": "code",
   "execution_count": 140,
   "metadata": {},
   "outputs": [],
   "source": [
    "# Importing the libraries\n",
    "import torch\n",
    "import sklearn\n",
    "import torch.nn as nn\n",
    "import torch.nn.functional as F\n"
   ]
  },
  {
   "cell_type": "code",
   "execution_count": 141,
   "metadata": {},
   "outputs": [],
   "source": [
    "from sklearn.datasets import make_classification\n",
    "from sklearn.model_selection import train_test_split\n",
    "from sklearn.preprocessing import StandardScaler\n",
    "\n",
    "# make_classification to generate a random classification dataset\n",
    "# train_test split to split the data in training and testing\n",
    "# StandardScaler to Standardize features by removing the mean and scaling to unit variance.\n"
   ]
  },
  {
   "cell_type": "code",
   "execution_count": 142,
   "metadata": {},
   "outputs": [],
   "source": [
    "# Creating The dataset\n",
    "X, y = make_classification(n_samples=2000, n_classes=2, n_features=5)\n",
    "\n",
    "# Normalizing the Dataset\n",
    "scaler = StandardScaler()\n",
    "X = scaler.fit_transform(X)\n",
    "\n",
    "# Converting Array to Tensor objects\n",
    "X = torch.tensor(X, dtype=torch.float32)\n",
    "y = torch.tensor(y, dtype=torch.float32)\n"
   ]
  },
  {
   "cell_type": "code",
   "execution_count": 143,
   "metadata": {},
   "outputs": [
    {
     "name": "stdout",
     "output_type": "stream",
     "text": [
      "Size of training dataset: \n",
      "torch.Size([1400, 5])\n",
      "Size of testing dataset: \n",
      "torch.Size([600, 5])\n"
     ]
    }
   ],
   "source": [
    "X_train, X_test, y_train, y_test = train_test_split( X, y, test_size=.3, random_state=21)\n",
    "print(\"Size of training dataset: \")\n",
    "print(X_train.shape)\n",
    "print(\"Size of testing dataset: \")\n",
    "print(X_test.shape)\n",
    "# Direct function in sklearn to split the dataset\n"
   ]
  },
  {
   "cell_type": "code",
   "execution_count": 144,
   "metadata": {},
   "outputs": [],
   "source": [
    "class NNpt(nn.Module):\n",
    "    def __init__(self, n_features):\n",
    "        super(NNpt, self).__init__()\n",
    "        self.linear = nn.Linear(n_features, 1)\n",
    "\n",
    "        self.linear.weight.detach().zero_()\n",
    "        self.linear.bias.detach().zero_()\n",
    "\n",
    "    def forward(self, x):\n",
    "        out = self.linear(x)\n",
    "        return out.view(-1)\n",
    "\n",
    "\n",
    "def loss_fn(yhat, y):\n",
    "    return torch.mean((yhat-y)**2)\n"
   ]
  },
  {
   "cell_type": "code",
   "execution_count": 145,
   "metadata": {},
   "outputs": [],
   "source": [
    "# For Model: 1\n",
    "def train(model, x, y, n_epoch=10, lr=0.001, seed=23, bsz=50):\n",
    "\n",
    "    cost = []\n",
    "    torch.manual_seed(seed)\n",
    "    # To optimize our algorithm\n",
    "    optimizer = torch.optim.SGD(model.parameters(), lr=lr)\n",
    "    for i in range(n_epoch):\n",
    "        suffle_idx = torch.randperm(y.size(0))\n",
    "        batches = torch.split(suffle_idx, bsz)\n",
    "\n",
    "        for idx in batches:\n",
    "            # 1. Compute the Output\n",
    "            yhat = model.forward(x[idx])\n",
    "\n",
    "            # 2. Compute the Loss\n",
    "            loss = torch.nn.functional.mse_loss(yhat, y[idx])\n",
    "\n",
    "            # 3. Compute the Gradients\n",
    "            optimizer.zero_grad()\n",
    "            loss.backward()\n",
    "\n",
    "            # 4. Update the Model Parameters\n",
    "            optimizer.step()\n",
    "\n",
    "            # model.weight=model.weight-lr*grad_w\n",
    "            # model.bias=model.bias-lr*grad_b\n",
    "\n",
    "        # 5. Log and print the Loss\n",
    "        with torch.no_grad():\n",
    "            yhat = model.forward(x)\n",
    "            curr_loss = loss_fn(yhat, y)\n",
    "            print('Epoc: %3d ' % (i+1), end=\"\")\n",
    "            print('| MSE % .5f' % curr_loss)\n",
    "            cost.append(curr_loss)\n",
    "\n",
    "    return cost\n"
   ]
  },
  {
   "cell_type": "code",
   "execution_count": 146,
   "metadata": {},
   "outputs": [
    {
     "name": "stdout",
     "output_type": "stream",
     "text": [
      "Epoc:   1 | MSE  0.44780\n",
      "Epoc:   2 | MSE  0.40321\n",
      "Epoc:   3 | MSE  0.36546\n",
      "Epoc:   4 | MSE  0.33336\n",
      "Epoc:   5 | MSE  0.30601\n",
      "Epoc:   6 | MSE  0.28258\n",
      "Epoc:   7 | MSE  0.26247\n",
      "Epoc:   8 | MSE  0.24517\n",
      "Epoc:   9 | MSE  0.23022\n",
      "Epoc:  10 | MSE  0.21728\n",
      "Epoc:  11 | MSE  0.20601\n",
      "Epoc:  12 | MSE  0.19622\n",
      "Epoc:  13 | MSE  0.18768\n",
      "Epoc:  14 | MSE  0.18020\n",
      "Epoc:  15 | MSE  0.17364\n",
      "Epoc:  16 | MSE  0.16788\n",
      "Epoc:  17 | MSE  0.16282\n",
      "Epoc:  18 | MSE  0.15836\n",
      "Epoc:  19 | MSE  0.15442\n",
      "Epoc:  20 | MSE  0.15094\n",
      "Epoc:  21 | MSE  0.14786\n",
      "Epoc:  22 | MSE  0.14513\n",
      "Epoc:  23 | MSE  0.14272\n",
      "Epoc:  24 | MSE  0.14057\n",
      "Epoc:  25 | MSE  0.13867\n",
      "Epoc:  26 | MSE  0.13698\n",
      "Epoc:  27 | MSE  0.13548\n",
      "Epoc:  28 | MSE  0.13414\n",
      "Epoc:  29 | MSE  0.13295\n",
      "Epoc:  30 | MSE  0.13189\n",
      "Epoc:  31 | MSE  0.13094\n",
      "Epoc:  32 | MSE  0.13010\n",
      "Epoc:  33 | MSE  0.12935\n",
      "Epoc:  34 | MSE  0.12867\n",
      "Epoc:  35 | MSE  0.12808\n",
      "Epoc:  36 | MSE  0.12754\n",
      "Epoc:  37 | MSE  0.12707\n",
      "Epoc:  38 | MSE  0.12664\n",
      "Epoc:  39 | MSE  0.12626\n",
      "Epoc:  40 | MSE  0.12592\n",
      "Epoc:  41 | MSE  0.12562\n",
      "Epoc:  42 | MSE  0.12535\n",
      "Epoc:  43 | MSE  0.12511\n",
      "Epoc:  44 | MSE  0.12490\n",
      "Epoc:  45 | MSE  0.12470\n",
      "Epoc:  46 | MSE  0.12453\n",
      "Epoc:  47 | MSE  0.12438\n",
      "Epoc:  48 | MSE  0.12424\n",
      "Epoc:  49 | MSE  0.12412\n",
      "Epoc:  50 | MSE  0.12401\n"
     ]
    }
   ],
   "source": [
    "n_feature = X_train.size(1)\n",
    "model = NNpt(n_features=n_feature)\n",
    "# Calling the model\n",
    "cost = train(model, X_train, y_train, n_epoch=50)\n"
   ]
  },
  {
   "cell_type": "code",
   "execution_count": 147,
   "metadata": {},
   "outputs": [
    {
     "data": {
      "text/plain": [
       "[]"
      ]
     },
     "execution_count": 147,
     "metadata": {},
     "output_type": "execute_result"
    },
    {
     "data": {
      "image/png": "[encoded data removed]",
      "text/plain": [
       "<Figure size 432x288 with 1 Axes>"
      ]
     },
     "metadata": {
      "needs_background": "light"
     },
     "output_type": "display_data"
    }
   ],
   "source": [
    "import matplotlib.pyplot as plt\n",
    "plt.plot(range(len(cost)), cost)\n",
    "plt.xlabel('No of Epochs')\n",
    "plt.ylabel('Mean Squared Error')\n",
    "plt.plot()\n"
   ]
  },
  {
   "cell_type": "code",
   "execution_count": 148,
   "metadata": {},
   "outputs": [
    {
     "name": "stdout",
     "output_type": "stream",
     "text": [
      "Accuracy for Model: 1\n",
      "Training Accuracy: 85.79 %\n",
      "Testing Accuracy: 85.17 %\n"
     ]
    }
   ],
   "source": [
    "ones=torch.ones(y_train.size(0))\n",
    "zero=torch.zeros(y_train.size(0))\n",
    "train_pred=model.forward(X_train)\n",
    "\n",
    "train_acc=torch.mean((torch.where( train_pred >0.5 , ones,zero).int()==y_train).float())\n",
    "#print(train_acc)\n",
    "\n",
    "ones=torch.ones(y_test.size(0))\n",
    "zero=torch.zeros(y_test.size(0))\n",
    "test_pred=model.forward(X_test)\n",
    "\n",
    "test_acc=torch.mean((torch.where( test_pred >0.5 , ones,zero).int()==y_test).float())\n",
    "print(\"Accuracy for Model: 1\")\n",
    "print('Training Accuracy: %.2f' % (train_acc*100),'%')\n",
    "print('Testing Accuracy: %.2f' % (test_acc*100),'%')"
   ]
  },
  {
   "cell_type": "code",
   "execution_count": 149,
   "metadata": {},
   "outputs": [],
   "source": [
    "# For Model: 1\n",
    "def train(model, x, y, n_epoch=10, lr=0.1, seed=23, bsz=50):\n",
    "\n",
    "    cost = []\n",
    "    torch.manual_seed(seed)\n",
    "    # To optimize our algorithm\n",
    "    optimizer = torch.optim.SGD(model.parameters(), lr=lr)\n",
    "    for i in range(n_epoch):\n",
    "        suffle_idx = torch.randperm(y.size(0))\n",
    "        batches = torch.split(suffle_idx, bsz)\n",
    "\n",
    "        for idx in batches:\n",
    "            # 1. Compute the Output\n",
    "            yhat = model.forward(x[idx])\n",
    "\n",
    "            # 2. Compute the Loss\n",
    "            loss = torch.nn.functional.mse_loss(yhat, y[idx])\n",
    "\n",
    "            # 3. Compute the Gradients\n",
    "            optimizer.zero_grad()\n",
    "            loss.backward()\n",
    "\n",
    "            # 4. Update the Model Parameters\n",
    "            optimizer.step()\n",
    "\n",
    "            # model.weight=model.weight-lr*grad_w\n",
    "            # model.bias=model.bias-lr*grad_b\n",
    "\n",
    "        # 5. Log and print the Loss\n",
    "        with torch.no_grad():\n",
    "            yhat = model.forward(x)\n",
    "            curr_loss = loss_fn(yhat, y)\n",
    "            print('Epoc: %3d ' % (i+1), end=\"\")\n",
    "            print('| MSE % .5f' % curr_loss)\n",
    "            cost.append(curr_loss)\n",
    "\n",
    "    return cost\n"
   ]
  },
  {
   "cell_type": "code",
   "execution_count": 150,
   "metadata": {},
   "outputs": [
    {
     "name": "stdout",
     "output_type": "stream",
     "text": [
      "Epoc:   1 | MSE  0.12633\n",
      "Epoc:   2 | MSE  0.12411\n",
      "Epoc:   3 | MSE  0.12363\n",
      "Epoc:   4 | MSE  0.12453\n",
      "Epoc:   5 | MSE  0.12650\n",
      "Epoc:   6 | MSE  0.12326\n",
      "Epoc:   7 | MSE  0.12707\n",
      "Epoc:   8 | MSE  0.12663\n",
      "Epoc:   9 | MSE  0.12428\n",
      "Epoc:  10 | MSE  0.12439\n",
      "Epoc:  11 | MSE  0.12487\n",
      "Epoc:  12 | MSE  0.12366\n",
      "Epoc:  13 | MSE  0.12451\n",
      "Epoc:  14 | MSE  0.12443\n",
      "Epoc:  15 | MSE  0.12449\n",
      "Epoc:  16 | MSE  0.12391\n",
      "Epoc:  17 | MSE  0.12328\n",
      "Epoc:  18 | MSE  0.12339\n",
      "Epoc:  19 | MSE  0.12531\n",
      "Epoc:  20 | MSE  0.12469\n",
      "Epoc:  21 | MSE  0.12815\n",
      "Epoc:  22 | MSE  0.12403\n",
      "Epoc:  23 | MSE  0.12605\n",
      "Epoc:  24 | MSE  0.12495\n",
      "Epoc:  25 | MSE  0.12337\n",
      "Epoc:  26 | MSE  0.12383\n",
      "Epoc:  27 | MSE  0.12418\n",
      "Epoc:  28 | MSE  0.12717\n",
      "Epoc:  29 | MSE  0.12561\n",
      "Epoc:  30 | MSE  0.12387\n",
      "Epoc:  31 | MSE  0.12625\n",
      "Epoc:  32 | MSE  0.12389\n",
      "Epoc:  33 | MSE  0.12408\n",
      "Epoc:  34 | MSE  0.12392\n",
      "Epoc:  35 | MSE  0.12520\n",
      "Epoc:  36 | MSE  0.12358\n",
      "Epoc:  37 | MSE  0.12418\n",
      "Epoc:  38 | MSE  0.12467\n",
      "Epoc:  39 | MSE  0.12409\n",
      "Epoc:  40 | MSE  0.12358\n",
      "Epoc:  41 | MSE  0.12533\n",
      "Epoc:  42 | MSE  0.12346\n",
      "Epoc:  43 | MSE  0.12541\n",
      "Epoc:  44 | MSE  0.12534\n",
      "Epoc:  45 | MSE  0.12400\n",
      "Epoc:  46 | MSE  0.12327\n",
      "Epoc:  47 | MSE  0.12324\n",
      "Epoc:  48 | MSE  0.12469\n",
      "Epoc:  49 | MSE  0.12393\n",
      "Epoc:  50 | MSE  0.12476\n"
     ]
    }
   ],
   "source": [
    "n_feature = X_train.size(1)\n",
    "model = NNpt(n_features=n_feature)\n",
    "# Calling the model\n",
    "cost = train(model, X_train, y_train, n_epoch=50)\n"
   ]
  },
  {
   "cell_type": "code",
   "execution_count": 151,
   "metadata": {},
   "outputs": [
    {
     "data": {
      "text/plain": [
       "[]"
      ]
     },
     "execution_count": 151,
     "metadata": {},
     "output_type": "execute_result"
    },
    {
     "data": {
      "image/png": "[encoded data removed]",
      "text/plain": [
       "<Figure size 432x288 with 1 Axes>"
      ]
     },
     "metadata": {
      "needs_background": "light"
     },
     "output_type": "display_data"
    }
   ],
   "source": [
    "import matplotlib.pyplot as plt\n",
    "plt.plot(range(len(cost)), cost)\n",
    "plt.xlabel('No of Epochs')\n",
    "plt.ylabel('Mean Squared Error')\n",
    "plt.plot()\n"
   ]
  },
  {
   "cell_type": "code",
   "execution_count": 152,
   "metadata": {},
   "outputs": [
    {
     "name": "stdout",
     "output_type": "stream",
     "text": [
      "Accuracy for Model: 2\n",
      "Training Accuracy: 86.71 %\n",
      "Testing Accuracy: 85.50 %\n"
     ]
    }
   ],
   "source": [
    "ones=torch.ones(y_train.size(0))\n",
    "zero=torch.zeros(y_train.size(0))\n",
    "train_pred=model.forward(X_train)\n",
    "\n",
    "train_acc=torch.mean((torch.where( train_pred >0.5 , ones,zero).int()==y_train).float())\n",
    "#print(train_acc)\n",
    "\n",
    "ones=torch.ones(y_test.size(0))\n",
    "zero=torch.zeros(y_test.size(0))\n",
    "test_pred=model.forward(X_test)\n",
    "\n",
    "test_acc=torch.mean((torch.where( test_pred >0.5 , ones,zero).int()==y_test).float())\n",
    "print(\"Accuracy for Model: 2\")\n",
    "print('Training Accuracy: %.2f' % (train_acc*100),'%')\n",
    "print('Testing Accuracy: %.2f' % (test_acc*100),'%')"
   ]
  }
 ],
 "metadata": {
  "kernelspec": {
   "display_name": "Python 3.10.7 64-bit",
   "language": "python",
   "name": "python3"
  },
  "language_info": {
   "codemirror_mode": {
    "name": "ipython",
    "version": 3
   },
   "file_extension": ".py",
   "mimetype": "text/x-python",
   "name": "python",
   "nbconvert_exporter": "python",
   "pygments_lexer": "ipython3",
   "version": "3.10.7"
  },
  "orig_nbformat": 4,
  "vscode": {
   "interpreter": {
    "hash": "3ee691e3c2883c6a130fe7a4fe904a1eaf00aeea2af805a016ed0d0bd8e74479"
   }
  }
 },
 "nbformat": 4,
 "nbformat_minor": 2
}
