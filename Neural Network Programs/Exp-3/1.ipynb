{
 "cells": [
  {
   "cell_type": "markdown",
   "metadata": {},
   "source": [
    "Regression with pytorch"
   ]
  },
  {
   "cell_type": "code",
   "execution_count": 67,
   "metadata": {},
   "outputs": [],
   "source": [
    "# Code by Bhavy Kharbanda\n",
    "# Sap Id: 500082531\n"
   ]
  },
  {
   "cell_type": "code",
   "execution_count": 68,
   "metadata": {},
   "outputs": [],
   "source": [
    "# Importing the libraries torch and sklearn for regression.\n",
    "import torch\n",
    "import sklearn\n"
   ]
  },
  {
   "cell_type": "code",
   "execution_count": 69,
   "metadata": {},
   "outputs": [
    {
     "data": {
      "text/plain": [
       "<torch._C.Generator at 0x1f2bdf4f850>"
      ]
     },
     "execution_count": 69,
     "metadata": {},
     "output_type": "execute_result"
    }
   ],
   "source": [
    "from sklearn.datasets import make_classification\n",
    "# It generates a random n-class classification problem\n",
    "torch.manual_seed(123)\n",
    "# Sets the seed for generating random numbers. Returns a torch object.\n",
    "# Parameter is for generating the random number.\n"
   ]
  },
  {
   "cell_type": "code",
   "execution_count": 70,
   "metadata": {},
   "outputs": [],
   "source": [
    "# Making a Toy Dataset\n",
    "X, y = make_classification(n_samples=1000, n_features=4, n_classes=2)\n",
    "\n",
    "# Change it into the Tensor objects\n",
    "X = torch.tensor(X, dtype=torch.float32)\n",
    "y = torch.tensor(y, dtype=torch.float32)\n"
   ]
  },
  {
   "cell_type": "code",
   "execution_count": 71,
   "metadata": {},
   "outputs": [
    {
     "data": {
      "text/plain": [
       "tensor([937, 859, 548, 487, 148, 190, 199, 632,  33, 714])"
      ]
     },
     "execution_count": 71,
     "metadata": {},
     "output_type": "execute_result"
    }
   ],
   "source": [
    "# Code for Data Shuffling\n",
    "torch.manual_seed(10)\n",
    "# To seed the range for all devices (CPU and GPU)\n",
    "\n",
    "suffle_idx = torch.randperm(y.size(0), dtype=torch.long)\n",
    "# Returns a random permutation of integers from 0 to n - 1\n",
    "# n is the size or range\n",
    "X, y = X[suffle_idx], y[suffle_idx]\n",
    "\n",
    "suffle_idx[:10]\n"
   ]
  },
  {
   "cell_type": "code",
   "execution_count": 72,
   "metadata": {},
   "outputs": [],
   "source": [
    "# Train Test split\n",
    "train_size = int(suffle_idx.size(0)*0.7)\n",
    "train_idx = suffle_idx[:train_size]\n",
    "test_idx = suffle_idx[train_size:]\n",
    "X_train, y_train = X[train_idx], y[train_idx]\n",
    "X_test, y_test = X[test_idx], y[test_idx]\n"
   ]
  },
  {
   "cell_type": "code",
   "execution_count": 73,
   "metadata": {},
   "outputs": [
    {
     "data": {
      "text/plain": [
       "torch.Size([700, 4])"
      ]
     },
     "execution_count": 73,
     "metadata": {},
     "output_type": "execute_result"
    }
   ],
   "source": [
    "X_train.shape\n",
    "# TO get the size of our training data set\n"
   ]
  },
  {
   "cell_type": "code",
   "execution_count": 74,
   "metadata": {},
   "outputs": [
    {
     "data": {
      "text/plain": [
       "torch.Size([300, 4])"
      ]
     },
     "execution_count": 74,
     "metadata": {},
     "output_type": "execute_result"
    }
   ],
   "source": [
    "X_test.shape\n",
    "# TO get the size of our Test data set\n"
   ]
  },
  {
   "cell_type": "code",
   "execution_count": 75,
   "metadata": {},
   "outputs": [],
   "source": [
    "# Normalizing the dataset\n",
    "# The normalization formula is a statistics formula that can transform a data set so that all of its variations fall between zero and one.\n",
    "mean, std_dev = X_train.mean(dim=0), X_train.std(dim=0)\n",
    "X_train = (X_train-mean)/std_dev\n",
    "X_test = (X_test-mean)/std_dev\n"
   ]
  },
  {
   "cell_type": "code",
   "execution_count": 76,
   "metadata": {},
   "outputs": [],
   "source": [
    "# Importing libraries for the neural network.\n",
    "# Imprting autograd to return the sum of gradients of outputs with respect to the input\n",
    "import torch.nn as nn\n",
    "from torch.autograd import grad\n"
   ]
  },
  {
   "cell_type": "code",
   "execution_count": 77,
   "metadata": {},
   "outputs": [],
   "source": [
    "class NN():\n",
    "    def __init__(self, n_features):\n",
    "        self.n_features = n_features\n",
    "        self.weight = torch.zeros(\n",
    "            size=(n_features, 1), dtype=torch.float, requires_grad=True)\n",
    "        self.bias = torch.zeros(1, dtype=torch.float, requires_grad=True)\n",
    "        # torch.zeros function initiializes all the values as zero, according to the given size.\n",
    "\n",
    "    def forward(self, x):\n",
    "        output = torch.add(torch.mm(x, self.weight), self.bias)\n",
    "        # For submission of weights and bias after multiplication of weights and inputs. eps(WiXi) + b\n",
    "        return output.view(-1)\n",
    "        # To reshape the dimension.\n",
    "\n",
    "\n",
    "def loss_fn(yhat, y):\n",
    "    return torch.mean((yhat-y)**2)\n",
    "    # For finding the mean value.\n"
   ]
  },
  {
   "cell_type": "code",
   "execution_count": 78,
   "metadata": {},
   "outputs": [],
   "source": [
    "# Defining the train model.\n",
    "def train(model, x, y, n_epoch=10, lr=0.001, seed=23, bsz=50):\n",
    "\n",
    "    cost = []\n",
    "    torch.manual_seed(seed)\n",
    "    for i in range(n_epoch):\n",
    "        suffle_idx = torch.randperm(y.size(0))\n",
    "        # random permutation value\n",
    "        batches = torch.split(suffle_idx, bsz)\n",
    "        # It splits the tensor into chunks and batches contains different blocks of actual tensor.\n",
    "\n",
    "        for idx in batches:\n",
    "\n",
    "            # 1. Compute the output\n",
    "            yhat = model.forward(x[idx])\n",
    "\n",
    "            # 2. Compute the Error\n",
    "            loss = loss_fn(yhat, y[idx])\n",
    "\n",
    "            # 3. Compute the gradient\n",
    "            grad_w = grad(loss, model.weight, retain_graph=True)[0]\n",
    "            grad_b = grad(loss, model.bias)[0]\n",
    "\n",
    "            # 4. Update Model Parameters\n",
    "            model.weight = model.weight-lr*grad_w\n",
    "            model.bias = model.bias-lr*grad_b\n",
    "\n",
    "        # 5. Log and print the loss\n",
    "        # no_grad -> it is for disabbeling the gradient calculation locally.\n",
    "        # Gradient descent is stuck on a local minimum, the bias will not reduce hence the error and accuracy won't be correct\n",
    "        with torch.no_grad():\n",
    "            yhat = model.forward(x)\n",
    "            curr_loss = loss_fn(yhat, y)\n",
    "            print('Epoc: %3d ' % (i+1), end=\"\")\n",
    "            print('| MSE % .5f' % curr_loss)\n",
    "            # Calculating the mean square error for each epoch.\n",
    "            cost.append(curr_loss)\n",
    "\n",
    "    return cost\n"
   ]
  },
  {
   "cell_type": "code",
   "execution_count": 79,
   "metadata": {},
   "outputs": [
    {
     "name": "stdout",
     "output_type": "stream",
     "text": [
      "Epoc:   1 | MSE  0.47809\n",
      "Epoc:   2 | MSE  0.45380\n",
      "Epoc:   3 | MSE  0.43126\n",
      "Epoc:   4 | MSE  0.41036\n",
      "Epoc:   5 | MSE  0.39096\n",
      "Epoc:   6 | MSE  0.37294\n",
      "Epoc:   7 | MSE  0.35620\n",
      "Epoc:   8 | MSE  0.34065\n",
      "Epoc:   9 | MSE  0.32618\n",
      "Epoc:  10 | MSE  0.31273\n",
      "Epoc:  11 | MSE  0.30021\n",
      "Epoc:  12 | MSE  0.28855\n",
      "Epoc:  13 | MSE  0.27768\n",
      "Epoc:  14 | MSE  0.26757\n",
      "Epoc:  15 | MSE  0.25813\n",
      "Epoc:  16 | MSE  0.24933\n",
      "Epoc:  17 | MSE  0.24113\n",
      "Epoc:  18 | MSE  0.23347\n",
      "Epoc:  19 | MSE  0.22632\n",
      "Epoc:  20 | MSE  0.21963\n",
      "Epoc:  21 | MSE  0.21339\n",
      "Epoc:  22 | MSE  0.20756\n",
      "Epoc:  23 | MSE  0.20210\n",
      "Epoc:  24 | MSE  0.19699\n",
      "Epoc:  25 | MSE  0.19221\n",
      "Epoc:  26 | MSE  0.18774\n",
      "Epoc:  27 | MSE  0.18356\n",
      "Epoc:  28 | MSE  0.17964\n",
      "Epoc:  29 | MSE  0.17597\n",
      "Epoc:  30 | MSE  0.17252\n",
      "Epoc:  31 | MSE  0.16930\n",
      "Epoc:  32 | MSE  0.16627\n",
      "Epoc:  33 | MSE  0.16343\n",
      "Epoc:  34 | MSE  0.16076\n",
      "Epoc:  35 | MSE  0.15827\n",
      "Epoc:  36 | MSE  0.15592\n",
      "Epoc:  37 | MSE  0.15372\n",
      "Epoc:  38 | MSE  0.15165\n",
      "Epoc:  39 | MSE  0.14971\n",
      "Epoc:  40 | MSE  0.14788\n",
      "Epoc:  41 | MSE  0.14616\n",
      "Epoc:  42 | MSE  0.14455\n",
      "Epoc:  43 | MSE  0.14303\n",
      "Epoc:  44 | MSE  0.14161\n",
      "Epoc:  45 | MSE  0.14027\n",
      "Epoc:  46 | MSE  0.13900\n",
      "Epoc:  47 | MSE  0.13781\n",
      "Epoc:  48 | MSE  0.13670\n",
      "Epoc:  49 | MSE  0.13565\n",
      "Epoc:  50 | MSE  0.13466\n"
     ]
    }
   ],
   "source": [
    "model = NN(X_train.size(1))\n",
    "cost = train(model, X_train, y_train, n_epoch=50)\n"
   ]
  },
  {
   "cell_type": "code",
   "execution_count": 80,
   "metadata": {},
   "outputs": [
    {
     "data": {
      "image/png": "[encoded data removed]",
      "text/plain": [
       "<Figure size 432x288 with 1 Axes>"
      ]
     },
     "metadata": {
      "needs_background": "light"
     },
     "output_type": "display_data"
    }
   ],
   "source": [
    "import matplotlib.pyplot as plt\n",
    "plt.plot(range(len(cost)), cost)\n",
    "plt.ylabel('Mean Square Error')\n",
    "plt.xlabel('Epoc')\n",
    "plt.show()\n"
   ]
  },
  {
   "cell_type": "code",
   "execution_count": 81,
   "metadata": {},
   "outputs": [
    {
     "name": "stdout",
     "output_type": "stream",
     "text": [
      "Training Accuracy: 84.00 %\n",
      "Testing Accuracy: 82.00 %\n"
     ]
    }
   ],
   "source": [
    "# For calculating the accuracy of the model,\n",
    "# For both test and train model\n",
    "\n",
    "ones = torch.ones(y_train.size())\n",
    "# Returns a tensor filled with the scalar value 1\n",
    "zero = torch.zeros(y_train.size())\n",
    "# Returns a tensor filled with the scalar value 0\n",
    "\n",
    "train_pred = model.forward(X_train)\n",
    "train_acc = torch.mean((\n",
    "    torch.where(train_pred > 0.5,\n",
    "                ones, zero).int() == y_train).float())\n",
    "\n",
    "\n",
    "ones = torch.ones(y_test.size())\n",
    "zeros = torch.zeros(y_test.size())\n",
    "test_pred = model.forward(X_test)\n",
    "test_acc = torch.mean(\n",
    "    (torch.where(test_pred > 0.5, ones, zeros).int() == y_test).float())\n",
    "\n",
    "print('Training Accuracy: %.2f' % (train_acc*100), '%')\n",
    "print('Testing Accuracy: %.2f' % (test_acc*100), '%')\n"
   ]
  }
 ],
 "metadata": {
  "kernelspec": {
   "display_name": "Python 3.10.6 64-bit",
   "language": "python",
   "name": "python3"
  },
  "language_info": {
   "codemirror_mode": {
    "name": "ipython",
    "version": 3
   },
   "file_extension": ".py",
   "mimetype": "text/x-python",
   "name": "python",
   "nbconvert_exporter": "python",
   "pygments_lexer": "ipython3",
   "version": "3.10.7"
  },
  "orig_nbformat": 4,
  "vscode": {
   "interpreter": {
    "hash": "3ee691e3c2883c6a130fe7a4fe904a1eaf00aeea2af805a016ed0d0bd8e74479"
   }
  }
 },
 "nbformat": 4,
 "nbformat_minor": 2
}
