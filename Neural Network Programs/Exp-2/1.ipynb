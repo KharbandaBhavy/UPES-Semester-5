{
 "cells": [
  {
   "cell_type": "markdown",
   "metadata": {},
   "source": [
    "Neural Network: Experiment - 2: Further Introduction to pytorch"
   ]
  },
  {
   "cell_type": "markdown",
   "metadata": {},
   "source": [
    "Loading a Dataset using pytorch"
   ]
  },
  {
   "cell_type": "code",
   "execution_count": 59,
   "metadata": {},
   "outputs": [],
   "source": [
    "# Explore the tools with different options like:\n",
    "\n",
    "# 1.Automatic differentiation\n",
    "# 2.Dataset creation\n",
    "# 3.Data loader"
   ]
  },
  {
   "cell_type": "code",
   "execution_count": 60,
   "metadata": {},
   "outputs": [],
   "source": [
    "# Code by Bhavy Kharbanda\n",
    "# Sap Id: 500082531 "
   ]
  },
  {
   "cell_type": "code",
   "execution_count": 61,
   "metadata": {},
   "outputs": [],
   "source": [
    "import torch \n",
    "import numpy as np\n",
    "import pandas as pd\n",
    "import matplotlib.pyplot as plt\n",
    "from torch.autograd import grad\n",
    "from torch.autograd import Variable\n"
   ]
  },
  {
   "cell_type": "code",
   "execution_count": 62,
   "metadata": {},
   "outputs": [
    {
     "name": "stdout",
     "output_type": "stream",
     "text": [
      "Complete Data set: \n",
      "       age  fnlwgt  education_num  capital_gain  capital_loss  hours_per_week  \\\n",
      "0       39   77516             13          2174             0              40   \n",
      "1       50   83311             13             0             0              13   \n",
      "2       38  215646              9             0             0              40   \n",
      "3       53  234721              7             0             0              40   \n",
      "4       28  338409             13             0             0              40   \n",
      "...    ...     ...            ...           ...           ...             ...   \n",
      "48837   39  215419             13             0             0              36   \n",
      "48838   64  321403              9             0             0              40   \n",
      "48839   38  374983             13             0             0              50   \n",
      "48840   44   83891             13          5455             0              40   \n",
      "48841   35  182148             13             0             0              60   \n",
      "\n",
      "       income_level  \n",
      "0                 0  \n",
      "1                 0  \n",
      "2                 0  \n",
      "3                 0  \n",
      "4                 0  \n",
      "...             ...  \n",
      "48837             0  \n",
      "48838             0  \n",
      "48839             0  \n",
      "48840             0  \n",
      "48841             1  \n",
      "\n",
      "[48842 rows x 7 columns]\n"
     ]
    },
    {
     "data": {
      "text/html": [
       "<div>\n",
       "<style scoped>\n",
       "    .dataframe tbody tr th:only-of-type {\n",
       "        vertical-align: middle;\n",
       "    }\n",
       "\n",
       "    .dataframe tbody tr th {\n",
       "        vertical-align: top;\n",
       "    }\n",
       "\n",
       "    .dataframe thead th {\n",
       "        text-align: right;\n",
       "    }\n",
       "</style>\n",
       "<table border=\"1\" class=\"dataframe\">\n",
       "  <thead>\n",
       "    <tr style=\"text-align: right;\">\n",
       "      <th></th>\n",
       "      <th>age</th>\n",
       "      <th>fnlwgt</th>\n",
       "      <th>education_num</th>\n",
       "      <th>capital_gain</th>\n",
       "      <th>capital_loss</th>\n",
       "      <th>hours_per_week</th>\n",
       "      <th>income_level</th>\n",
       "    </tr>\n",
       "  </thead>\n",
       "  <tbody>\n",
       "    <tr>\n",
       "      <th>0</th>\n",
       "      <td>39</td>\n",
       "      <td>77516</td>\n",
       "      <td>13</td>\n",
       "      <td>2174</td>\n",
       "      <td>0</td>\n",
       "      <td>40</td>\n",
       "      <td>0</td>\n",
       "    </tr>\n",
       "    <tr>\n",
       "      <th>1</th>\n",
       "      <td>50</td>\n",
       "      <td>83311</td>\n",
       "      <td>13</td>\n",
       "      <td>0</td>\n",
       "      <td>0</td>\n",
       "      <td>13</td>\n",
       "      <td>0</td>\n",
       "    </tr>\n",
       "    <tr>\n",
       "      <th>2</th>\n",
       "      <td>38</td>\n",
       "      <td>215646</td>\n",
       "      <td>9</td>\n",
       "      <td>0</td>\n",
       "      <td>0</td>\n",
       "      <td>40</td>\n",
       "      <td>0</td>\n",
       "    </tr>\n",
       "    <tr>\n",
       "      <th>3</th>\n",
       "      <td>53</td>\n",
       "      <td>234721</td>\n",
       "      <td>7</td>\n",
       "      <td>0</td>\n",
       "      <td>0</td>\n",
       "      <td>40</td>\n",
       "      <td>0</td>\n",
       "    </tr>\n",
       "    <tr>\n",
       "      <th>4</th>\n",
       "      <td>28</td>\n",
       "      <td>338409</td>\n",
       "      <td>13</td>\n",
       "      <td>0</td>\n",
       "      <td>0</td>\n",
       "      <td>40</td>\n",
       "      <td>0</td>\n",
       "    </tr>\n",
       "  </tbody>\n",
       "</table>\n",
       "</div>"
      ],
      "text/plain": [
       "   age  fnlwgt  education_num  capital_gain  capital_loss  hours_per_week  \\\n",
       "0   39   77516             13          2174             0              40   \n",
       "1   50   83311             13             0             0              13   \n",
       "2   38  215646              9             0             0              40   \n",
       "3   53  234721              7             0             0              40   \n",
       "4   28  338409             13             0             0              40   \n",
       "\n",
       "   income_level  \n",
       "0             0  \n",
       "1             0  \n",
       "2             0  \n",
       "3             0  \n",
       "4             0  "
      ]
     },
     "execution_count": 62,
     "metadata": {},
     "output_type": "execute_result"
    }
   ],
   "source": [
    "data = pd.read_csv ('Salary.csv')\n",
    "print (\"Complete Data set: \")\n",
    "print(data)\n",
    "data.head()\n"
   ]
  },
  {
   "cell_type": "code",
   "execution_count": 63,
   "metadata": {},
   "outputs": [],
   "source": [
    "# Selecting the dataset for train and test categories\n",
    "X = data.iloc[24421:,0:6]\n",
    "y = data.iloc[:24421,0:6]"
   ]
  },
  {
   "cell_type": "code",
   "execution_count": 64,
   "metadata": {},
   "outputs": [],
   "source": [
    "# Change it into the Tensor objects\n",
    "X_tensor = torch.tensor(X.values, dtype=torch.float32)\n",
    "y_tensor = torch.tensor(y.values, dtype=torch.float32)"
   ]
  },
  {
   "cell_type": "code",
   "execution_count": 65,
   "metadata": {},
   "outputs": [
    {
     "name": "stdout",
     "output_type": "stream",
     "text": [
      "Converted dataset values to tensor objects: \n",
      "Train Dataset:  tensor([[5.0000e+01, 9.9925e+04, 9.0000e+00, 0.0000e+00, 0.0000e+00, 3.2000e+01],\n",
      "        [5.8000e+01, 2.2780e+05, 2.0000e+00, 0.0000e+00, 0.0000e+00, 5.0000e+01],\n",
      "        [5.5000e+01, 1.1113e+05, 1.2000e+01, 0.0000e+00, 0.0000e+00, 4.0000e+01],\n",
      "        ...,\n",
      "        [3.8000e+01, 3.7498e+05, 1.3000e+01, 0.0000e+00, 0.0000e+00, 5.0000e+01],\n",
      "        [4.4000e+01, 8.3891e+04, 1.3000e+01, 5.4550e+03, 0.0000e+00, 4.0000e+01],\n",
      "        [3.5000e+01, 1.8215e+05, 1.3000e+01, 0.0000e+00, 0.0000e+00, 6.0000e+01]])\n",
      "Test Dataset:  tensor([[3.9000e+01, 7.7516e+04, 1.3000e+01, 2.1740e+03, 0.0000e+00, 4.0000e+01],\n",
      "        [5.0000e+01, 8.3311e+04, 1.3000e+01, 0.0000e+00, 0.0000e+00, 1.3000e+01],\n",
      "        [3.8000e+01, 2.1565e+05, 9.0000e+00, 0.0000e+00, 0.0000e+00, 4.0000e+01],\n",
      "        ...,\n",
      "        [2.3000e+01, 1.1145e+05, 1.0000e+01, 0.0000e+00, 0.0000e+00, 2.2000e+01],\n",
      "        [3.5000e+01, 2.2586e+05, 1.1000e+01, 0.0000e+00, 0.0000e+00, 4.0000e+01],\n",
      "        [4.3000e+01, 1.2985e+05, 6.0000e+00, 0.0000e+00, 0.0000e+00, 4.0000e+01]])\n"
     ]
    }
   ],
   "source": [
    "# Printing the converted tensors: \n",
    "print('Converted dataset values to tensor objects: ')\n",
    "print('Train Dataset: ', X_tensor)\n",
    "print('Test Dataset: ', y_tensor)"
   ]
  },
  {
   "cell_type": "code",
   "execution_count": 66,
   "metadata": {},
   "outputs": [
    {
     "data": {
      "text/plain": [
       "torch.Size([24421, 6])"
      ]
     },
     "execution_count": 66,
     "metadata": {},
     "output_type": "execute_result"
    }
   ],
   "source": [
    "# To know the size of the converted dataset\n",
    "X_tensor.shape\n"
   ]
  },
  {
   "cell_type": "code",
   "execution_count": 67,
   "metadata": {},
   "outputs": [
    {
     "data": {
      "text/plain": [
       "torch.Size([24421, 6])"
      ]
     },
     "execution_count": 67,
     "metadata": {},
     "output_type": "execute_result"
    }
   ],
   "source": [
    "# To know the size of the converted dataset\n",
    "y_tensor.shape"
   ]
  },
  {
   "cell_type": "code",
   "execution_count": 77,
   "metadata": {},
   "outputs": [
    {
     "name": "stdout",
     "output_type": "stream",
     "text": [
      "tensor([[3.9000e+01, 7.7516e+04, 1.3000e+01, 2.1740e+03, 0.0000e+00, 4.0000e+01],\n",
      "        [5.0000e+01, 8.3311e+04, 1.3000e+01, 0.0000e+00, 0.0000e+00, 1.3000e+01],\n",
      "        [3.8000e+01, 2.1565e+05, 9.0000e+00, 0.0000e+00, 0.0000e+00, 4.0000e+01],\n",
      "        ...,\n",
      "        [2.3000e+01, 1.1145e+05, 1.0000e+01, 0.0000e+00, 0.0000e+00, 2.2000e+01],\n",
      "        [3.5000e+01, 2.2586e+05, 1.1000e+01, 0.0000e+00, 0.0000e+00, 4.0000e+01],\n",
      "        [4.3000e+01, 1.2985e+05, 6.0000e+00, 0.0000e+00, 0.0000e+00, 4.0000e+01]])\n",
      "tensor([[5.0000e+01, 9.9925e+04, 9.0000e+00, 0.0000e+00, 0.0000e+00, 3.2000e+01],\n",
      "        [5.8000e+01, 2.2780e+05, 2.0000e+00, 0.0000e+00, 0.0000e+00, 5.0000e+01],\n",
      "        [5.5000e+01, 1.1113e+05, 1.2000e+01, 0.0000e+00, 0.0000e+00, 4.0000e+01],\n",
      "        ...,\n",
      "        [3.8000e+01, 3.7498e+05, 1.3000e+01, 0.0000e+00, 0.0000e+00, 5.0000e+01],\n",
      "        [4.4000e+01, 8.3891e+04, 1.3000e+01, 5.4550e+03, 0.0000e+00, 4.0000e+01],\n",
      "        [3.5000e+01, 1.8215e+05, 1.3000e+01, 0.0000e+00, 0.0000e+00, 6.0000e+01]])\n"
     ]
    }
   ],
   "source": [
    "# For calculating gradient, automatic differentiation.\n",
    "new_X = Variable(X_tensor, requires_grad = True)\n",
    "new_y = Variable(y_tensor, requires_grad = True)\n",
    "z = new_X * new_y\n",
    "z.backward(torch.ones_like(new_X))\n",
    "print(new_X.grad.data)\n",
    "print(new_y.grad.data)\n"
   ]
  },
  {
   "cell_type": "code",
   "execution_count": 71,
   "metadata": {},
   "outputs": [
    {
     "data": {
      "text/plain": [
       "[]"
      ]
     },
     "execution_count": 71,
     "metadata": {},
     "output_type": "execute_result"
    },
    {
     "data": {
      "image/png": "[encoded data removed]",
      "text/plain": [
       "<Figure size 432x288 with 1 Axes>"
      ]
     },
     "metadata": {
      "needs_background": "light"
     },
     "output_type": "display_data"
    }
   ],
   "source": [
    "# For plotting the plot:\n",
    "plt.plot(X_tensor, y_tensor)\n",
    "plt.xlabel('X variable')\n",
    "plt.ylabel('Y variable')\n",
    "plt.plot()"
   ]
  },
  {
   "cell_type": "code",
   "execution_count": 80,
   "metadata": {},
   "outputs": [
    {
     "data": {
      "text/plain": [
       "[]"
      ]
     },
     "execution_count": 80,
     "metadata": {},
     "output_type": "execute_result"
    },
    {
     "data": {
      "image/png": "[encoded data removed]",
      "text/plain": [
       "<Figure size 432x288 with 1 Axes>"
      ]
     },
     "metadata": {
      "needs_background": "light"
     },
     "output_type": "display_data"
    }
   ],
   "source": [
    "plt.plot(new_X.grad.data, new_y.grad.data)\n",
    "plt.xlabel('X_tensor gradient')\n",
    "plt.ylabel('Y_tensor gradient')\n",
    "plt.plot()"
   ]
  }
 ],
 "metadata": {
  "kernelspec": {
   "display_name": "Python 3.10.6 64-bit",
   "language": "python",
   "name": "python3"
  },
  "language_info": {
   "codemirror_mode": {
    "name": "ipython",
    "version": 3
   },
   "file_extension": ".py",
   "mimetype": "text/x-python",
   "name": "python",
   "nbconvert_exporter": "python",
   "pygments_lexer": "ipython3",
   "version": "3.10.7"
  },
  "orig_nbformat": 4,
  "vscode": {
   "interpreter": {
    "hash": "3ee691e3c2883c6a130fe7a4fe904a1eaf00aeea2af805a016ed0d0bd8e74479"
   }
  }
 },
 "nbformat": 4,
 "nbformat_minor": 2
}
