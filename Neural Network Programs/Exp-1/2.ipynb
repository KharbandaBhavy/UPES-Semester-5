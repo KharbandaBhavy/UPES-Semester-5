{
 "cells": [
  {
   "cell_type": "markdown",
   "metadata": {},
   "source": [
    "Neural Network: Experiment - 1: Introduction to pytorch"
   ]
  },
  {
   "cell_type": "markdown",
   "metadata": {},
   "source": [
    "Addition of two matrices using user input."
   ]
  },
  {
   "cell_type": "code",
   "execution_count": 6,
   "metadata": {},
   "outputs": [],
   "source": [
    "# Explore the tools with different options like\n",
    "\n",
    "# 1. Installation\n",
    "# 2. Tensor creation deletion\n",
    "# 3. Tensor manipulation"
   ]
  },
  {
   "cell_type": "code",
   "execution_count": 7,
   "metadata": {},
   "outputs": [],
   "source": [
    "# Code by Bhavy Kharbanda\n",
    "# Sap Id: 500082531 "
   ]
  },
  {
   "cell_type": "code",
   "execution_count": 8,
   "metadata": {},
   "outputs": [],
   "source": [
    "import torch as th\n",
    "import numpy as np"
   ]
  },
  {
   "cell_type": "code",
   "execution_count": 9,
   "metadata": {},
   "outputs": [],
   "source": [
    "# list(map(int, input().split())): It splits all the values added by the user in a single row, so each character is taken as an individual after the space.\n",
    "# np.array(entries).reshape(row, col): It reshapes all the entries in the size of row and column given by the user.\n"
   ]
  },
  {
   "cell_type": "code",
   "execution_count": 10,
   "metadata": {},
   "outputs": [
    {
     "name": "stdout",
     "output_type": "stream",
     "text": [
      "Enter the entries in a single line: \n",
      "[[1 2]\n",
      " [3 4]]\n",
      "Enter the entries in a single line: \n",
      "[[4 5]\n",
      " [6 7]]\n"
     ]
    }
   ],
   "source": [
    "# Taking user input for matrix 1:\n",
    "row1 = int(input(\"Enter the number of rows for matrix1: \"))\n",
    "col1 = int(input(\"Enter the number of columns for matrix1: \"))\n",
    "  \n",
    "print(\"Enter the entries in a single line: \")\n",
    "\n",
    "values = list(map(int, input().split()))\n",
    "  \n",
    "# For printing the matrix\n",
    "matrix1 = np.array(values).reshape(row1, col1)\n",
    "print(matrix1)\n",
    "\n",
    "# Taking user input for matrix 2:\n",
    "row2 = int(input(\"Enter the number of rows for matrix2: \"))\n",
    "col2 = int(input(\"Enter the number of columns for matrix2: \"))\n",
    "  \n",
    "print(\"Enter the entries in a single line: \")\n",
    "\n",
    "values = list(map(int, input().split()))\n",
    "  \n",
    "# For printing the matrix\n",
    "matrix2 = np.array(values).reshape(row2, col2)\n",
    "print(matrix2)"
   ]
  },
  {
   "cell_type": "code",
   "execution_count": 11,
   "metadata": {},
   "outputs": [
    {
     "name": "stdout",
     "output_type": "stream",
     "text": [
      "Sum of matrices are:  tensor([[ 5,  7],\n",
      "        [ 9, 11]], dtype=torch.int32)\n"
     ]
    }
   ],
   "source": [
    "# Converting the matrices to tensor objects:\n",
    "tensor1 = th.tensor(matrix1)\n",
    "tensor2 = th.tensor(matrix2)\n",
    "\n",
    "# Performing the matrix addition:\n",
    "sum = tensor1 + tensor2\n",
    "print(\"Sum of matrices are: \", sum)"
   ]
  }
 ],
 "metadata": {
  "kernelspec": {
   "display_name": "Python 3.10.6 64-bit",
   "language": "python",
   "name": "python3"
  },
  "language_info": {
   "codemirror_mode": {
    "name": "ipython",
    "version": 3
   },
   "file_extension": ".py",
   "mimetype": "text/x-python",
   "name": "python",
   "nbconvert_exporter": "python",
   "pygments_lexer": "ipython3",
   "version": "3.10.6"
  },
  "orig_nbformat": 4,
  "vscode": {
   "interpreter": {
    "hash": "3ee691e3c2883c6a130fe7a4fe904a1eaf00aeea2af805a016ed0d0bd8e74479"
   }
  }
 },
 "nbformat": 4,
 "nbformat_minor": 2
}
