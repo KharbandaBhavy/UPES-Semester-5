{
 "cells": [
  {
   "cell_type": "markdown",
   "metadata": {},
   "source": [
    "Neural Network: Experiment - 1: Introduction to pytorch"
   ]
  },
  {
   "cell_type": "markdown",
   "metadata": {},
   "source": [
    "Scalar Multiplication of matrix"
   ]
  },
  {
   "cell_type": "code",
   "execution_count": 11,
   "metadata": {},
   "outputs": [],
   "source": [
    "# Explore the tools with different options like\n",
    "\n",
    "# 1. Installation\n",
    "# 2. Tensor creation deletion\n",
    "# 3. Tensor manipulation"
   ]
  },
  {
   "cell_type": "code",
   "execution_count": 12,
   "metadata": {},
   "outputs": [],
   "source": [
    "# Code by Bhavy Kharbanda\n",
    "# Sap Id: 500082531 "
   ]
  },
  {
   "cell_type": "code",
   "execution_count": 13,
   "metadata": {},
   "outputs": [],
   "source": [
    "import torch as th\n",
    "import numpy as np"
   ]
  },
  {
   "cell_type": "code",
   "execution_count": 14,
   "metadata": {},
   "outputs": [],
   "source": [
    "# list(map(int, input().split())): It splits all the values added by the user in a single row, so each character is taken as an individual after the space.\n",
    "# np.array(entries).reshape(row, col): It reshapes all the entries in the size of row and column given by the user.\n"
   ]
  },
  {
   "cell_type": "code",
   "execution_count": 15,
   "metadata": {},
   "outputs": [
    {
     "name": "stdout",
     "output_type": "stream",
     "text": [
      "Enter the entries in a single line: \n",
      "[[1 2]\n",
      " [3 4]]\n"
     ]
    }
   ],
   "source": [
    "# Taking user input for matrix 1:\n",
    "row1 = int(input(\"Enter the number of rows for matrix1: \"))\n",
    "col1 = int(input(\"Enter the number of columns for matrix1: \"))\n",
    "  \n",
    "print(\"Enter the entries in a single line: \")\n",
    "\n",
    "values = list(map(int, input().split()))\n",
    "  \n",
    "# For printing the matrix\n",
    "matrix1 = np.array(values).reshape(row1, col1)\n",
    "print(matrix1)\n"
   ]
  },
  {
   "cell_type": "code",
   "execution_count": 16,
   "metadata": {},
   "outputs": [],
   "source": [
    "# Converting the matrices to tensor objects:\n",
    "tensor1 = th.tensor(matrix1)"
   ]
  },
  {
   "cell_type": "code",
   "execution_count": 17,
   "metadata": {},
   "outputs": [
    {
     "name": "stdout",
     "output_type": "stream",
     "text": [
      "Multiplied matrix is:  tensor([[ 5, 10],\n",
      "        [15, 20]], dtype=torch.int32)\n"
     ]
    }
   ],
   "source": [
    "# Performing the matrix scalar multiplication:\n",
    "x = int(input(\"Enter the scalar by which you want to multiply the matrix: \"))\n",
    "mul = x * tensor1\n",
    "\n",
    "print(\"Multiplied matrix is: \", mul)"
   ]
  }
 ],
 "metadata": {
  "kernelspec": {
   "display_name": "Python 3.10.6 64-bit",
   "language": "python",
   "name": "python3"
  },
  "language_info": {
   "codemirror_mode": {
    "name": "ipython",
    "version": 3
   },
   "file_extension": ".py",
   "mimetype": "text/x-python",
   "name": "python",
   "nbconvert_exporter": "python",
   "pygments_lexer": "ipython3",
   "version": "3.10.6"
  },
  "orig_nbformat": 4,
  "vscode": {
   "interpreter": {
    "hash": "3ee691e3c2883c6a130fe7a4fe904a1eaf00aeea2af805a016ed0d0bd8e74479"
   }
  }
 },
 "nbformat": 4,
 "nbformat_minor": 2
}
