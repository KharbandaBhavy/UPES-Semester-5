{
 "cells": [
  {
   "cell_type": "code",
   "execution_count": 6,
   "metadata": {},
   "outputs": [
    {
     "name": "stdout",
     "output_type": "stream",
     "text": [
      "\n",
      "The Iris Dataset:\n",
      "      Id  SepalLengthCm  SepalWidthCm  PetalLengthCm  PetalWidthCm  \\\n",
      "0      1            5.1           3.5            1.4           0.2   \n",
      "1      2            4.9           3.0            1.4           0.2   \n",
      "2      3            4.7           3.2            1.3           0.2   \n",
      "3      4            4.6           3.1            1.5           0.2   \n",
      "4      5            5.0           3.6            1.4           0.2   \n",
      "..   ...            ...           ...            ...           ...   \n",
      "145  146            6.7           3.0            5.2           2.3   \n",
      "146  147            6.3           2.5            5.0           1.9   \n",
      "147  148            6.5           3.0            5.2           2.0   \n",
      "148  149            6.2           3.4            5.4           2.3   \n",
      "149  150            5.9           3.0            5.1           1.8   \n",
      "\n",
      "            Species  \n",
      "0       Iris-setosa  \n",
      "1       Iris-setosa  \n",
      "2       Iris-setosa  \n",
      "3       Iris-setosa  \n",
      "4       Iris-setosa  \n",
      "..              ...  \n",
      "145  Iris-virginica  \n",
      "146  Iris-virginica  \n",
      "147  Iris-virginica  \n",
      "148  Iris-virginica  \n",
      "149  Iris-virginica  \n",
      "\n",
      "[150 rows x 6 columns]\n"
     ]
    }
   ],
   "source": [
    "# Exp: Implementation of Linear regression.\n",
    "# Code by Bhavy Kharbanda\n",
    "# Sap Id: 500082531\n",
    "import pandas as pd\n",
    "import numpy as np\n",
    "import matplotlib.pyplot as plt\n",
    "from sklearn.linear_model import LinearRegression\n",
    "\n",
    "dataset = pd.read_csv('iris.csv')\n",
    "print(\"\\nThe Iris Dataset:\")\n",
    "print(dataset)"
   ]
  },
  {
   "cell_type": "code",
   "execution_count": 7,
   "metadata": {},
   "outputs": [
    {
     "name": "stdout",
     "output_type": "stream",
     "text": [
      "\n",
      "Linear regression score is: \n",
      "0.011961632834767588\n",
      "\n",
      "Linear regression Coefficient is: \n",
      "[[-0.05726823]]\n"
     ]
    }
   ],
   "source": [
    "x = dataset.iloc[:,1:2].values\n",
    "y = dataset.iloc[:,2:3].values\n",
    "\n",
    "#Linear regression direct from sk learn\n",
    "reg = LinearRegression().fit(x,y)\n",
    "print(\"\\nLinear regression score is: \")\n",
    "print(reg.score(x,y))\n",
    "print(\"\\nLinear regression Coefficient is: \")\n",
    "print(reg.coef_)"
   ]
  },
  {
   "cell_type": "code",
   "execution_count": 8,
   "metadata": {},
   "outputs": [],
   "source": [
    "# Using the actual formula to verify and plot\n",
    "def estimate_coef(x, y):\n",
    "    n = np.size(x)\n",
    "    # mean of x and y\n",
    "    m_x = np.mean(x)\n",
    "    m_v = np.mean(y)\n",
    "    # calcultaing the cross derivation about x\n",
    "    SS_xv = np.sum(y*x) - n*m_v*m_x\n",
    "    SS_xx = np.sum(x*x) - n*m_x*m_x\n",
    "\n",
    "    # calculating the regression coeff\n",
    "    b_1 = SS_xv/SS_xx\n",
    "    b_0 = m_v - b_1*m_x\n",
    "\n",
    "    return (b_0, b_1)"
   ]
  },
  {
   "cell_type": "code",
   "execution_count": 9,
   "metadata": {},
   "outputs": [],
   "source": [
    "def plot_regression_line(x, y, b):\n",
    "    plt.scatter(x, y, color='m', marker=\"o\", s=30)       # plotting the actual points as scatter plot\n",
    "    y_pred = b[0]+b[1]*x                                 # predicting the response vecotr\n",
    "    plt.plot(x, y_pred, color=\"g\")                       # plotting the regression line\n",
    "    plt.xlabel(\"X\")                                      # putting the labels\n",
    "    plt.ylabel(\"Y\")\n",
    "    plt.show()"
   ]
  },
  {
   "cell_type": "code",
   "execution_count": 10,
   "metadata": {},
   "outputs": [
    {
     "name": "stdout",
     "output_type": "stream",
     "text": [
      "\n",
      "Estimated coefficients:\n",
      " b_0=3.3886373794881335 \n",
      "b_1=-0.05726823379717051\n"
     ]
    },
    {
     "data": {
      "image/png": "[encoded data removed]",
      "text/plain": [
       "<Figure size 432x288 with 1 Axes>"
      ]
     },
     "metadata": {
      "needs_background": "light"
     },
     "output_type": "display_data"
    }
   ],
   "source": [
    "def main():\n",
    "    dataset = pd.read_csv('iris.csv')\n",
    "    x = np.array(dataset.iloc[:,1:2].values)\n",
    "    y = np.array(dataset.iloc[:,2:3].values)        \n",
    "    b = estimate_coef(x, y)\n",
    "    print(\"\\nEstimated coefficients:\\n b_0={} \\nb_1={}\".format(b[0], b[1]))\n",
    "    plot_regression_line(x, y, b)\n",
    "\n",
    "main()"
   ]
  }
 ],
 "metadata": {
  "kernelspec": {
   "display_name": "Python 3.10.6 64-bit",
   "language": "python",
   "name": "python3"
  },
  "language_info": {
   "codemirror_mode": {
    "name": "ipython",
    "version": 3
   },
   "file_extension": ".py",
   "mimetype": "text/x-python",
   "name": "python",
   "nbconvert_exporter": "python",
   "pygments_lexer": "ipython3",
   "version": "3.10.6"
  },
  "orig_nbformat": 4,
  "vscode": {
   "interpreter": {
    "hash": "3ee691e3c2883c6a130fe7a4fe904a1eaf00aeea2af805a016ed0d0bd8e74479"
   }
  }
 },
 "nbformat": 4,
 "nbformat_minor": 2
}
