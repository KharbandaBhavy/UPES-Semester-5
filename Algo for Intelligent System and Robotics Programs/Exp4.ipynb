{
 "cells": [
  {
   "cell_type": "code",
   "execution_count": null,
   "metadata": {},
   "outputs": [],
   "source": [
    "# Code by Bhavy Kharbanda\n",
    "# Sap Id: 500082531 \n",
    "# Write a program to solve the 4-queens problem."
   ]
  },
  {
   "cell_type": "code",
   "execution_count": 6,
   "metadata": {},
   "outputs": [
    {
     "name": "stdout",
     "output_type": "stream",
     "text": [
      "Possible indices of the problem where the queens can be placed: \n",
      "[[2, 4, 1, 3], [3, 1, 4, 2]]\n"
     ]
    }
   ],
   "source": [
    "# Printing index of all possible solutions of 4-queens using Backtracking\n",
    "result = []\n",
    " \n",
    "def place(board, row, col):\n",
    " \n",
    "    # Check this row on left side\n",
    "    for i in range(col):\n",
    "        if (board[row][i]):\n",
    "            return False\n",
    " \n",
    "    # Check upper diagonal on left side\n",
    "    i = row\n",
    "    j = col\n",
    "    while i >= 0 and j >= 0:\n",
    "        if(board[i][j]):\n",
    "            return False\n",
    "        i -= 1\n",
    "        j -= 1\n",
    " \n",
    "    # Check lower diagonal on left side\n",
    "    i = row\n",
    "    j = col\n",
    "    while j >= 0 and i < 4:\n",
    "        if(board[i][j]):\n",
    "            return False\n",
    "        i = i + 1\n",
    "        j = j - 1\n",
    " \n",
    "    return True\n",
    "  \n",
    "def solve(board, col):\n",
    "    # Base case\n",
    "    if (col == 4):\n",
    "        v = []\n",
    "        for i in board:\n",
    "          for j in range(len(i)):\n",
    "            if i[j] == 1:\n",
    "              v.append(j+1)\n",
    "        result.append(v)\n",
    "        return True\n",
    " \n",
    "    res_nq = False\n",
    "    for i in range(4):\n",
    "        if (place(board, i, col)):\n",
    "            board[i][col] = 1\n",
    "            res_nq = solve(board, col + 1) or res_nq\n",
    " \n",
    "            board[i][col] = 0  # BACKTRACK\n",
    "    return res_nq\n",
    "\n",
    "def main(n):\n",
    "    result.clear()\n",
    "    board = [[0 for j in range(n)]\n",
    "             for i in range(n)]\n",
    "    solve(board, 0)\n",
    "    result.sort()\n",
    "    return result\n",
    "\n",
    "n = 4\n",
    "res_nq = main(n)\n",
    "print(\"Possible indices of the problem where the queens can be placed: \")\n",
    "print(res_nq)"
   ]
  },
  {
   "cell_type": "code",
   "execution_count": 7,
   "metadata": {},
   "outputs": [
    {
     "name": "stdout",
     "output_type": "stream",
     "text": [
      "The solution on the board is: Queens are shown by 1\n",
      "0 0 1 0 \n",
      "1 0 0 0 \n",
      "0 0 0 1 \n",
      "0 1 0 0 \n"
     ]
    },
    {
     "data": {
      "text/plain": [
       "True"
      ]
     },
     "execution_count": 7,
     "metadata": {},
     "output_type": "execute_result"
    }
   ],
   "source": [
    "# For 4-queens problem using Backtracking\n",
    "global N # Declaring a global variable\n",
    "N = 4\n",
    "\n",
    "def display_board(board):\n",
    "\tfor i in range(N):\n",
    "\t\tfor j in range(N):\n",
    "\t\t\tprint (board[i][j],end=' ')\n",
    "\t\tprint()\n",
    "\n",
    "def place(board, row, col):\n",
    "\n",
    "\t# Check this row on left side\n",
    "\tfor i in range(col):\n",
    "\t\tif board[row][i] == 1:\n",
    "\t\t\treturn False\n",
    "\n",
    "\t# Check upper diagonal on left side\n",
    "\tfor i, j in zip(range(row, -1, -1), range(col, -1, -1)):\n",
    "\t\tif board[i][j] == 1:\n",
    "\t\t\treturn False\n",
    "\n",
    "\t# Check lower diagonal on left side\n",
    "\tfor i, j in zip(range(row, N, 1), range(col, -1, -1)):\n",
    "\t\tif board[i][j] == 1:\n",
    "\t\t\treturn False\n",
    "\n",
    "\treturn True\n",
    "\n",
    "def base_case(board, col):\n",
    "\tif col >= N:\n",
    "\t\treturn True\n",
    "\n",
    "\t# Consider this column and try placing\n",
    "\t# this queen in all rows one by one\n",
    "\tfor i in range(N):\n",
    "\n",
    "\t\tif place(board, i, col):\n",
    "\t\t\t# Place this queen in board[i][col]\n",
    "\t\t\tboard[i][col] = 1\n",
    "\n",
    "\t\t\t# recur to place rest of the queens\n",
    "\t\t\tif base_case(board, col + 1) == True:\n",
    "\t\t\t\treturn True\n",
    "\n",
    "\t\t\t# If placing queen in board[i][col] doesn't lead to a solution, then queen from board[i][col]\n",
    "\t\t\tboard[i][col] = 0\n",
    "\n",
    "\treturn False # Can't be placed in any col\n",
    "\n",
    "def main():\n",
    "\tboard = [ [0, 0, 0, 0],\n",
    "\t\t\t[0, 0, 0, 0],\n",
    "\t\t\t[0, 0, 0, 0],\n",
    "\t\t\t[0, 0, 0, 0]\n",
    "\t\t\t]\n",
    "\n",
    "\tif base_case(board, 0) == False:\n",
    "\t\tprint (\"Solution does not exist\")\n",
    "\t\treturn False\n",
    "\n",
    "\tdisplay_board(board)\n",
    "\treturn True\n",
    "\n",
    "print(\"The solution on the board is: Queens are shown by 1\")\n",
    "main()\n"
   ]
  }
 ],
 "metadata": {
  "kernelspec": {
   "display_name": "Python 3.10.6 64-bit",
   "language": "python",
   "name": "python3"
  },
  "language_info": {
   "codemirror_mode": {
    "name": "ipython",
    "version": 3
   },
   "file_extension": ".py",
   "mimetype": "text/x-python",
   "name": "python",
   "nbconvert_exporter": "python",
   "pygments_lexer": "ipython3",
   "version": "3.10.7"
  },
  "orig_nbformat": 4,
  "vscode": {
   "interpreter": {
    "hash": "3ee691e3c2883c6a130fe7a4fe904a1eaf00aeea2af805a016ed0d0bd8e74479"
   }
  }
 },
 "nbformat": 4,
 "nbformat_minor": 2
}
