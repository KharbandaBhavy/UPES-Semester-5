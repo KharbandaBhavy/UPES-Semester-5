{
 "cells": [
  {
   "cell_type": "markdown",
   "metadata": {},
   "source": [
    "Breadth First Search Algorithm"
   ]
  },
  {
   "cell_type": "code",
   "execution_count": 1,
   "metadata": {},
   "outputs": [],
   "source": [
    "# Code by Bhavy Kharbanda\n",
    "# Sap Id: 500082531 \n",
    "# Write a program to implement BFS (Breadth First Search) algorithm and DFS (Depth First Search) Algorithm using python."
   ]
  },
  {
   "cell_type": "code",
   "execution_count": 2,
   "metadata": {},
   "outputs": [],
   "source": [
    "# Importing the libraries.\n",
    "from IPython.display import Image\n",
    "from collections import defaultdict"
   ]
  },
  {
   "cell_type": "code",
   "execution_count": 3,
   "metadata": {},
   "outputs": [
    {
     "name": "stdout",
     "output_type": "stream",
     "text": [
      "Breadth First Traversal: (Choosing root node as 2): \n",
      "0\n",
      "1\n",
      "2\n",
      "3\n"
     ]
    },
    {
     "data": {
      "image/png": "[encoded data removed]",
      "text/plain": [
       "<IPython.core.display.Image object>"
      ]
     },
     "execution_count": 3,
     "metadata": {},
     "output_type": "execute_result"
    }
   ],
   "source": [
    "\n",
    "# We use defaultdict here inspite of a normal dictionery because we need to take care of the missing vales.\n",
    "\n",
    "class Graph:\n",
    "\n",
    "    # Constructor\n",
    "    # For declaring the initial values\n",
    "    def __init__(self):\n",
    "        self.graph = defaultdict(list)\n",
    "\n",
    "    # Function to add an edge to the graph\n",
    "    def Add_Edge(self, u, v):\n",
    "        self.graph[u].append(v)\n",
    "\n",
    "    # Function to print a BFS of graph\n",
    "    def BFS_Algo(self, s):\n",
    "\n",
    "        # Declare all the vertices that are not visited\n",
    "        reached = [False] * (len(self.graph))\n",
    "\n",
    "        # Create a queue for BFS\n",
    "        queue = []\n",
    "\n",
    "        # Mark the root node as visited and put that in queue\n",
    "        queue.append(s)\n",
    "        reached[s] = True\n",
    "\n",
    "        while queue:\n",
    "\n",
    "            # Dequeue a vertex from queue and print it\n",
    "            s = queue.pop(0)\n",
    "            print(s, end=\"\\n\")\n",
    "\n",
    "            # Get all adjacent vertices of the dequeued vertex s. If a adjacent vertex has not been visited, then mark it visited and put that in the queue.\n",
    "\n",
    "            for i in self.graph[s]:\n",
    "                if reached[i] == False:\n",
    "                    queue.append(i)\n",
    "                    reached[i] = True\n",
    "\n",
    "\n",
    "gph = Graph()\n",
    "gph.Add_Edge(0, 1)\n",
    "gph.Add_Edge(0, 2)\n",
    "gph.Add_Edge(1, 2)\n",
    "gph.Add_Edge(2, 0)\n",
    "gph.Add_Edge(2, 3)\n",
    "gph.Add_Edge(3, 3)\n",
    "\n",
    "print(\"Breadth First Traversal: (Choosing root node as 2): \")\n",
    "# Calling the function by declaring the root node.\n",
    "gph.BFS_Algo(0)\n",
    "\n",
    "# For showing the graph\n",
    "Image(filename='Graph.png') \n",
    "\n"
   ]
  },
  {
   "cell_type": "markdown",
   "metadata": {},
   "source": [
    "Depth First Search Algorithm"
   ]
  },
  {
   "cell_type": "code",
   "execution_count": 4,
   "metadata": {},
   "outputs": [
    {
     "name": "stdout",
     "output_type": "stream",
     "text": [
      "Following is Depth First Traversal: \n",
      "0\n",
      "1\n",
      "2\n",
      "3\n"
     ]
    },
    {
     "data": {
      "image/png": "[encoded data removed]",
      "text/plain": [
       "<IPython.core.display.Image object>"
      ]
     },
     "execution_count": 4,
     "metadata": {},
     "output_type": "execute_result"
    }
   ],
   "source": [
    "class Graph:\n",
    "\n",
    "\t# Constructor\n",
    "\tdef __init__(self):\n",
    "\n",
    "\t\t# Use of Default dictionary to store graph\n",
    "\t\tself.graph = defaultdict(list)\n",
    "\n",
    "\t# Function to add an edge to graph\n",
    "\tdef Add_Edge(self,u,v):\n",
    "\t\tself.graph[u].append(v)\n",
    "\n",
    "\t# A function for implementing DFS\n",
    "\tdef DFS_Algo(self, v, visited):\n",
    "\n",
    "\t\t# Mark the current node as visited and print it\n",
    "\t\tvisited[v]= True\n",
    "\t\tprint(v)\n",
    "\n",
    "\t\tfor i in self.graph[v]:\n",
    "\t\t\tif visited[i] == False:\n",
    "\t\t\t\tself.DFS_Algo(i, visited)\n",
    "\n",
    "\n",
    "\tdef DFS_Traversal(self):\n",
    "\t\tV = len(self.graph) #total vertices\n",
    "\n",
    "\t\t# Mark all the vertices as not visited\n",
    "\t\tvisited =[False]*(V)\n",
    "\n",
    "\t\t# Call the recursive helper function to print DFS traversal starting from all vertices one by one\n",
    "\t\tfor i in range(V):\n",
    "\t\t\tif visited[i] == False:\n",
    "\t\t\t\tself.DFS_Algo(i, visited)\n",
    "\n",
    "gph = Graph()\n",
    "gph.Add_Edge(0, 1)\n",
    "gph.Add_Edge(0, 2)\n",
    "gph.Add_Edge(1, 2)\n",
    "gph.Add_Edge(2, 0)\n",
    "gph.Add_Edge(2, 3)\n",
    "gph.Add_Edge(3, 3)\n",
    "\n",
    "print(\"Following is Depth First Traversal: \")\n",
    "gph.DFS_Traversal()\n",
    "\n",
    "# For showing the graph\n",
    "Image(filename='Graph.png') "
   ]
  }
 ],
 "metadata": {
  "kernelspec": {
   "display_name": "Python 3.10.6 64-bit",
   "language": "python",
   "name": "python3"
  },
  "language_info": {
   "codemirror_mode": {
    "name": "ipython",
    "version": 3
   },
   "file_extension": ".py",
   "mimetype": "text/x-python",
   "name": "python",
   "nbconvert_exporter": "python",
   "pygments_lexer": "ipython3",
   "version": "3.10.7"
  },
  "orig_nbformat": 4,
  "vscode": {
   "interpreter": {
    "hash": "3ee691e3c2883c6a130fe7a4fe904a1eaf00aeea2af805a016ed0d0bd8e74479"
   }
  }
 },
 "nbformat": 4,
 "nbformat_minor": 2
}
