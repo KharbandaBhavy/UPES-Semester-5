{
 "cells": [
  {
   "cell_type": "markdown",
   "metadata": {},
   "source": [
    "Simple Neural Network"
   ]
  },
  {
   "cell_type": "code",
   "execution_count": 1,
   "metadata": {},
   "outputs": [],
   "source": [
    "# Code by Bhavy Kharbanda\n",
    "# Sap Id: 500082531 \n",
    "# Write a program to implement Simple Neural Network concept using python."
   ]
  },
  {
   "cell_type": "code",
   "execution_count": 2,
   "metadata": {},
   "outputs": [],
   "source": [
    "# Importing the libraries\n",
    "import torch\n",
    "import sklearn\n",
    "import torch.nn as nn\n",
    "import torch.nn.functional as F"
   ]
  },
  {
   "cell_type": "code",
   "execution_count": 3,
   "metadata": {},
   "outputs": [],
   "source": [
    "from sklearn.datasets import make_classification\n",
    "from sklearn.model_selection import train_test_split\n",
    "from sklearn.preprocessing import StandardScaler\n",
    "\n",
    "# make_classification to generate a random classification dataset\n",
    "# train_test split to split the data in training and testing\n",
    "# StandardScaler to Standardize features by removing the mean and scaling to unit variance.\n"
   ]
  },
  {
   "cell_type": "code",
   "execution_count": 4,
   "metadata": {},
   "outputs": [],
   "source": [
    "# Creating The dataset\n",
    "X,y=make_classification(n_samples=1000,n_classes=2,n_features=4)\n",
    "\n",
    "# Normalizing the Dataset\n",
    "scaler=StandardScaler()\n",
    "X=scaler.fit_transform(X)\n",
    "\n",
    "# Converting Array to Tensor objects\n",
    "X=torch.tensor(X,dtype=torch.float32)\n",
    "y=torch.tensor(y,dtype=torch.float32)"
   ]
  },
  {
   "cell_type": "code",
   "execution_count": 5,
   "metadata": {},
   "outputs": [
    {
     "name": "stdout",
     "output_type": "stream",
     "text": [
      "torch.Size([700, 4])\n",
      "torch.Size([300, 4])\n"
     ]
    }
   ],
   "source": [
    "X_train,X_test,y_train,y_test=train_test_split(X,y,test_size=.3,random_state=21)\n",
    "print(X_train.shape)\n",
    "print(X_test.shape)\n",
    "# Direct function in sklearn to split the dataset"
   ]
  },
  {
   "cell_type": "code",
   "execution_count": 6,
   "metadata": {},
   "outputs": [],
   "source": [
    "class NNpt(nn.Module):\n",
    "  def __init__(self,n_features):\n",
    "    super(NNpt,self).__init__()\n",
    "    self.linear=nn.Linear(n_features,1)\n",
    "\n",
    "    self.linear.weight.detach().zero_()\n",
    "    self.linear.bias.detach().zero_()\n",
    "\n",
    "\n",
    "  def forward(self,x):\n",
    "    out=self.linear(x)\n",
    "    return out.view(-1)\n",
    "\n",
    "def loss_fn(yhat,y):\n",
    "  return torch.mean((yhat-y)**2)"
   ]
  },
  {
   "cell_type": "code",
   "execution_count": 7,
   "metadata": {},
   "outputs": [],
   "source": [
    "def train(model,x,y,n_epoch=10,lr=0.001,seed=23,bsz=50):\n",
    "\n",
    "  cost=[]\n",
    "  torch.manual_seed(seed)\n",
    "   # To optimize our algorithm\n",
    "  optimizer=torch.optim.SGD(model.parameters(),lr=lr)\n",
    "  for i in range(n_epoch):\n",
    "    suffle_idx=torch.randperm(y.size(0))\n",
    "    batches=torch.split(suffle_idx,bsz)\n",
    "\n",
    "    for idx in batches:\n",
    "      # 1. Compute the Output\n",
    "      yhat=model.forward(x[idx])\n",
    "\n",
    "      # 2. Compute the Loss\n",
    "      loss=torch.nn.functional.mse_loss(yhat,y[idx])\n",
    "\n",
    "      # 3. Compute the Gradients\n",
    "      optimizer.zero_grad()\n",
    "      loss.backward()\n",
    "\n",
    "      # 4. Update the Model Parameters\n",
    "      optimizer.step()\n",
    "\n",
    "      #model.weight=model.weight-lr*grad_w\n",
    "      #model.bias=model.bias-lr*grad_b\n",
    "\n",
    "    # 5. Log and print the Loss\n",
    "    with torch.no_grad():\n",
    "      yhat=model.forward(x)\n",
    "      curr_loss=loss_fn(yhat,y)\n",
    "      print('Epoc: %3d ' % (i+1),end=\"\")\n",
    "      print('| MSE % .5f' % curr_loss)\n",
    "      cost.append(curr_loss)\n",
    "      \n",
    "  return cost"
   ]
  },
  {
   "cell_type": "code",
   "execution_count": 8,
   "metadata": {},
   "outputs": [
    {
     "name": "stdout",
     "output_type": "stream",
     "text": [
      "Epoc:   1 | MSE  0.47330\n",
      "Epoc:   2 | MSE  0.45095\n",
      "Epoc:   3 | MSE  0.43000\n",
      "Epoc:   4 | MSE  0.41036\n",
      "Epoc:   5 | MSE  0.39196\n",
      "Epoc:   6 | MSE  0.37470\n",
      "Epoc:   7 | MSE  0.35853\n",
      "Epoc:   8 | MSE  0.34336\n",
      "Epoc:   9 | MSE  0.32913\n",
      "Epoc:  10 | MSE  0.31579\n",
      "Epoc:  11 | MSE  0.30327\n",
      "Epoc:  12 | MSE  0.29152\n",
      "Epoc:  13 | MSE  0.28050\n",
      "Epoc:  14 | MSE  0.27016\n",
      "Epoc:  15 | MSE  0.26046\n",
      "Epoc:  16 | MSE  0.25136\n",
      "Epoc:  17 | MSE  0.24281\n",
      "Epoc:  18 | MSE  0.23479\n",
      "Epoc:  19 | MSE  0.22726\n",
      "Epoc:  20 | MSE  0.22019\n",
      "Epoc:  21 | MSE  0.21355\n",
      "Epoc:  22 | MSE  0.20732\n",
      "Epoc:  23 | MSE  0.20147\n",
      "Epoc:  24 | MSE  0.19598\n",
      "Epoc:  25 | MSE  0.19081\n",
      "Epoc:  26 | MSE  0.18597\n",
      "Epoc:  27 | MSE  0.18142\n",
      "Epoc:  28 | MSE  0.17714\n",
      "Epoc:  29 | MSE  0.17312\n",
      "Epoc:  30 | MSE  0.16935\n",
      "Epoc:  31 | MSE  0.16580\n",
      "Epoc:  32 | MSE  0.16246\n",
      "Epoc:  33 | MSE  0.15933\n",
      "Epoc:  34 | MSE  0.15639\n",
      "Epoc:  35 | MSE  0.15362\n",
      "Epoc:  36 | MSE  0.15102\n",
      "Epoc:  37 | MSE  0.14858\n",
      "Epoc:  38 | MSE  0.14628\n",
      "Epoc:  39 | MSE  0.14412\n",
      "Epoc:  40 | MSE  0.14209\n",
      "Epoc:  41 | MSE  0.14018\n",
      "Epoc:  42 | MSE  0.13839\n",
      "Epoc:  43 | MSE  0.13670\n",
      "Epoc:  44 | MSE  0.13511\n",
      "Epoc:  45 | MSE  0.13362\n",
      "Epoc:  46 | MSE  0.13222\n",
      "Epoc:  47 | MSE  0.13090\n",
      "Epoc:  48 | MSE  0.12965\n",
      "Epoc:  49 | MSE  0.12849\n",
      "Epoc:  50 | MSE  0.12739\n"
     ]
    }
   ],
   "source": [
    "n_feature=X_train.size(1)\n",
    "model=NNpt(n_features=n_feature)\n",
    "# Calling the model\n",
    "cost=train(model,X_train,y_train,n_epoch=50)"
   ]
  },
  {
   "cell_type": "code",
   "execution_count": 9,
   "metadata": {},
   "outputs": [
    {
     "data": {
      "text/plain": [
       "[]"
      ]
     },
     "execution_count": 9,
     "metadata": {},
     "output_type": "execute_result"
    },
    {
     "data": {
      "image/png": "[encoded data removed]",
      "text/plain": [
       "<Figure size 432x288 with 1 Axes>"
      ]
     },
     "metadata": {
      "needs_background": "light"
     },
     "output_type": "display_data"
    }
   ],
   "source": [
    "import matplotlib.pyplot as plt\n",
    "plt.plot(range(len(cost)),cost)\n",
    "plt.xlabel('No of Epochs')\n",
    "plt.ylabel('Mean Squared Error')\n",
    "plt.plot()"
   ]
  },
  {
   "cell_type": "code",
   "execution_count": 10,
   "metadata": {},
   "outputs": [
    {
     "name": "stdout",
     "output_type": "stream",
     "text": [
      "Training Accuracy: 83.14 %\n",
      "Testing Accuracy: 82.00 %\n"
     ]
    }
   ],
   "source": [
    "ones=torch.ones(y_train.size(0))\n",
    "zero=torch.zeros(y_train.size(0))\n",
    "train_pred=model.forward(X_train)\n",
    "\n",
    "train_acc=torch.mean((torch.where( train_pred >0.5 , ones,zero).int()==y_train).float())\n",
    "#print(train_acc)\n",
    "\n",
    "ones=torch.ones(y_test.size(0))\n",
    "zero=torch.zeros(y_test.size(0))\n",
    "test_pred=model.forward(X_test)\n",
    "\n",
    "test_acc=torch.mean((torch.where( test_pred >0.5 , ones,zero).int()==y_test).float())\n",
    "print('Training Accuracy: %.2f' % (train_acc*100),'%')\n",
    "print('Testing Accuracy: %.2f' % (test_acc*100),'%')"
   ]
  }
 ],
 "metadata": {
  "kernelspec": {
   "display_name": "Python 3.10.7 64-bit",
   "language": "python",
   "name": "python3"
  },
  "language_info": {
   "codemirror_mode": {
    "name": "ipython",
    "version": 3
   },
   "file_extension": ".py",
   "mimetype": "text/x-python",
   "name": "python",
   "nbconvert_exporter": "python",
   "pygments_lexer": "ipython3",
   "version": "3.10.7"
  },
  "orig_nbformat": 4,
  "vscode": {
   "interpreter": {
    "hash": "3ee691e3c2883c6a130fe7a4fe904a1eaf00aeea2af805a016ed0d0bd8e74479"
   }
  }
 },
 "nbformat": 4,
 "nbformat_minor": 2
}
